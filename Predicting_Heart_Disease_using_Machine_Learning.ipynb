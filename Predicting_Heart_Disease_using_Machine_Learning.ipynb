{
  "cells": [
    {
      "cell_type": "markdown",
      "id": "eae6a64a",
      "metadata": {
        "id": "eae6a64a"
      },
      "source": [
        "# Predicting Heart Disease using Machine Learning"
      ]
    },
    {
      "cell_type": "code",
      "source": [
        "from google.colab import drive\n",
        "drive.mount('/content/gdrive')"
      ],
      "metadata": {
        "colab": {
          "base_uri": "https://localhost:8080/"
        },
        "id": "oIsYawwPdgvm",
        "outputId": "36f344e7-5231-463b-b499-73eb6c5c83ab"
      },
      "id": "oIsYawwPdgvm",
      "execution_count": null,
      "outputs": [
        {
          "output_type": "stream",
          "name": "stdout",
          "text": [
            "Mounted at /content/gdrive\n"
          ]
        }
      ]
    },
    {
      "cell_type": "code",
      "execution_count": null,
      "id": "d5fd4bc7",
      "metadata": {
        "id": "d5fd4bc7"
      },
      "outputs": [],
      "source": [
        "# Regular EDA and plotting libraries\n",
        "import numpy as np\n",
        "import pandas as pd\n",
        "import matplotlib.pyplot as plt\n",
        "import seaborn as sns\n",
        "import matplotlib.pyplot as plt\n",
        "\n",
        "# Models from scikit-learn\n",
        "from sklearn.linear_model import LogisticRegression\n",
        "from sklearn.neighbors import KNeighborsClassifier\n",
        "from sklearn.ensemble import RandomForestClassifier\n",
        "\n",
        "# Model Evaluations\n",
        "from sklearn.model_selection import train_test_split, cross_val_score\n",
        "from sklearn.model_selection import RandomizedSearchCV, GridSearchCV\n",
        "from sklearn.metrics import confusion_matrix, classification_report\n",
        "from sklearn.metrics import precision_score, recall_score, f1_score\n",
        "from sklearn.metrics import roc_curve, auc\n"
      ]
    },
    {
      "cell_type": "code",
      "execution_count": null,
      "id": "4f395671",
      "metadata": {
        "id": "4f395671"
      },
      "outputs": [],
      "source": [
        "data_null = pd.read_csv('/content/heart_disease_missing_data.csv')"
      ]
    },
    {
      "cell_type": "code",
      "execution_count": null,
      "id": "7494b0da",
      "metadata": {
        "colab": {
          "base_uri": "https://localhost:8080/",
          "height": 308
        },
        "id": "7494b0da",
        "outputId": "a8d85169-ea48-4b5e-984e-060e25c14260"
      },
      "outputs": [
        {
          "output_type": "execute_result",
          "data": {
            "text/plain": [
              "      SEQN  Gender   Age  Annual-Family-Income  Ratio-Family-Income-Poverty  \\\n",
              "0  13693.0     2.0  43.0                  10.0                         5.00   \n",
              "1   7067.0     2.0  39.0                  11.0                         5.00   \n",
              "2  26620.0     1.0  37.0                  11.0                         5.00   \n",
              "3  28664.0     1.0  68.0                   5.0                         0.98   \n",
              "4  92540.0     2.0  50.0                   9.0                         2.99   \n",
              "\n",
              "   X60-sec-pulse  Systolic  Diastolic  Weight  Height  ...  Total-Cholesterol  \\\n",
              "0           96.0     120.0       85.0   112.3   159.5  ...               4.55   \n",
              "1           56.0     109.0       72.0    64.1   166.4  ...               4.24   \n",
              "2           92.0     120.0       89.0   110.8   183.5  ...               5.40   \n",
              "3           50.0     138.0        NaN    66.4   162.5  ...               4.03   \n",
              "4           62.0     120.0       66.0    77.4   156.2  ...               5.92   \n",
              "\n",
              "    HDL  Glycohemoglobin  Vigorous-work  Moderate-work  Health-Insurance  \\\n",
              "0  1.01              5.5            2.0            1.0               1.0   \n",
              "1  1.66              4.9            2.0            1.0               1.0   \n",
              "2  0.98              5.8            1.0            1.0               1.0   \n",
              "3  1.53              NaN            2.0            NaN               1.0   \n",
              "4  1.27              5.6            2.0            1.0               1.0   \n",
              "\n",
              "   Diabetes  Blood-Rel-Diabetes  Blood-Rel-Stroke  CoronaryHeartDisease  \n",
              "0       2.0                 1.0               1.0                   0.0  \n",
              "1       2.0                 2.0               1.0                   0.0  \n",
              "2       2.0                 1.0               2.0                   0.0  \n",
              "3       1.0                 NaN               2.0                   NaN  \n",
              "4       2.0                 2.0               2.0                   0.0  \n",
              "\n",
              "[5 rows x 51 columns]"
            ],
            "text/html": [
              "\n",
              "  <div id=\"df-ba3f4cea-05a7-46d1-a230-56c27cbda560\" class=\"colab-df-container\">\n",
              "    <div>\n",
              "<style scoped>\n",
              "    .dataframe tbody tr th:only-of-type {\n",
              "        vertical-align: middle;\n",
              "    }\n",
              "\n",
              "    .dataframe tbody tr th {\n",
              "        vertical-align: top;\n",
              "    }\n",
              "\n",
              "    .dataframe thead th {\n",
              "        text-align: right;\n",
              "    }\n",
              "</style>\n",
              "<table border=\"1\" class=\"dataframe\">\n",
              "  <thead>\n",
              "    <tr style=\"text-align: right;\">\n",
              "      <th></th>\n",
              "      <th>SEQN</th>\n",
              "      <th>Gender</th>\n",
              "      <th>Age</th>\n",
              "      <th>Annual-Family-Income</th>\n",
              "      <th>Ratio-Family-Income-Poverty</th>\n",
              "      <th>X60-sec-pulse</th>\n",
              "      <th>Systolic</th>\n",
              "      <th>Diastolic</th>\n",
              "      <th>Weight</th>\n",
              "      <th>Height</th>\n",
              "      <th>...</th>\n",
              "      <th>Total-Cholesterol</th>\n",
              "      <th>HDL</th>\n",
              "      <th>Glycohemoglobin</th>\n",
              "      <th>Vigorous-work</th>\n",
              "      <th>Moderate-work</th>\n",
              "      <th>Health-Insurance</th>\n",
              "      <th>Diabetes</th>\n",
              "      <th>Blood-Rel-Diabetes</th>\n",
              "      <th>Blood-Rel-Stroke</th>\n",
              "      <th>CoronaryHeartDisease</th>\n",
              "    </tr>\n",
              "  </thead>\n",
              "  <tbody>\n",
              "    <tr>\n",
              "      <th>0</th>\n",
              "      <td>13693.0</td>\n",
              "      <td>2.0</td>\n",
              "      <td>43.0</td>\n",
              "      <td>10.0</td>\n",
              "      <td>5.00</td>\n",
              "      <td>96.0</td>\n",
              "      <td>120.0</td>\n",
              "      <td>85.0</td>\n",
              "      <td>112.3</td>\n",
              "      <td>159.5</td>\n",
              "      <td>...</td>\n",
              "      <td>4.55</td>\n",
              "      <td>1.01</td>\n",
              "      <td>5.5</td>\n",
              "      <td>2.0</td>\n",
              "      <td>1.0</td>\n",
              "      <td>1.0</td>\n",
              "      <td>2.0</td>\n",
              "      <td>1.0</td>\n",
              "      <td>1.0</td>\n",
              "      <td>0.0</td>\n",
              "    </tr>\n",
              "    <tr>\n",
              "      <th>1</th>\n",
              "      <td>7067.0</td>\n",
              "      <td>2.0</td>\n",
              "      <td>39.0</td>\n",
              "      <td>11.0</td>\n",
              "      <td>5.00</td>\n",
              "      <td>56.0</td>\n",
              "      <td>109.0</td>\n",
              "      <td>72.0</td>\n",
              "      <td>64.1</td>\n",
              "      <td>166.4</td>\n",
              "      <td>...</td>\n",
              "      <td>4.24</td>\n",
              "      <td>1.66</td>\n",
              "      <td>4.9</td>\n",
              "      <td>2.0</td>\n",
              "      <td>1.0</td>\n",
              "      <td>1.0</td>\n",
              "      <td>2.0</td>\n",
              "      <td>2.0</td>\n",
              "      <td>1.0</td>\n",
              "      <td>0.0</td>\n",
              "    </tr>\n",
              "    <tr>\n",
              "      <th>2</th>\n",
              "      <td>26620.0</td>\n",
              "      <td>1.0</td>\n",
              "      <td>37.0</td>\n",
              "      <td>11.0</td>\n",
              "      <td>5.00</td>\n",
              "      <td>92.0</td>\n",
              "      <td>120.0</td>\n",
              "      <td>89.0</td>\n",
              "      <td>110.8</td>\n",
              "      <td>183.5</td>\n",
              "      <td>...</td>\n",
              "      <td>5.40</td>\n",
              "      <td>0.98</td>\n",
              "      <td>5.8</td>\n",
              "      <td>1.0</td>\n",
              "      <td>1.0</td>\n",
              "      <td>1.0</td>\n",
              "      <td>2.0</td>\n",
              "      <td>1.0</td>\n",
              "      <td>2.0</td>\n",
              "      <td>0.0</td>\n",
              "    </tr>\n",
              "    <tr>\n",
              "      <th>3</th>\n",
              "      <td>28664.0</td>\n",
              "      <td>1.0</td>\n",
              "      <td>68.0</td>\n",
              "      <td>5.0</td>\n",
              "      <td>0.98</td>\n",
              "      <td>50.0</td>\n",
              "      <td>138.0</td>\n",
              "      <td>NaN</td>\n",
              "      <td>66.4</td>\n",
              "      <td>162.5</td>\n",
              "      <td>...</td>\n",
              "      <td>4.03</td>\n",
              "      <td>1.53</td>\n",
              "      <td>NaN</td>\n",
              "      <td>2.0</td>\n",
              "      <td>NaN</td>\n",
              "      <td>1.0</td>\n",
              "      <td>1.0</td>\n",
              "      <td>NaN</td>\n",
              "      <td>2.0</td>\n",
              "      <td>NaN</td>\n",
              "    </tr>\n",
              "    <tr>\n",
              "      <th>4</th>\n",
              "      <td>92540.0</td>\n",
              "      <td>2.0</td>\n",
              "      <td>50.0</td>\n",
              "      <td>9.0</td>\n",
              "      <td>2.99</td>\n",
              "      <td>62.0</td>\n",
              "      <td>120.0</td>\n",
              "      <td>66.0</td>\n",
              "      <td>77.4</td>\n",
              "      <td>156.2</td>\n",
              "      <td>...</td>\n",
              "      <td>5.92</td>\n",
              "      <td>1.27</td>\n",
              "      <td>5.6</td>\n",
              "      <td>2.0</td>\n",
              "      <td>1.0</td>\n",
              "      <td>1.0</td>\n",
              "      <td>2.0</td>\n",
              "      <td>2.0</td>\n",
              "      <td>2.0</td>\n",
              "      <td>0.0</td>\n",
              "    </tr>\n",
              "  </tbody>\n",
              "</table>\n",
              "<p>5 rows × 51 columns</p>\n",
              "</div>\n",
              "    <div class=\"colab-df-buttons\">\n",
              "\n",
              "  <div class=\"colab-df-container\">\n",
              "    <button class=\"colab-df-convert\" onclick=\"convertToInteractive('df-ba3f4cea-05a7-46d1-a230-56c27cbda560')\"\n",
              "            title=\"Convert this dataframe to an interactive table.\"\n",
              "            style=\"display:none;\">\n",
              "\n",
              "  <svg xmlns=\"http://www.w3.org/2000/svg\" height=\"24px\" viewBox=\"0 -960 960 960\">\n",
              "    <path d=\"M120-120v-720h720v720H120Zm60-500h600v-160H180v160Zm220 220h160v-160H400v160Zm0 220h160v-160H400v160ZM180-400h160v-160H180v160Zm440 0h160v-160H620v160ZM180-180h160v-160H180v160Zm440 0h160v-160H620v160Z\"/>\n",
              "  </svg>\n",
              "    </button>\n",
              "\n",
              "  <style>\n",
              "    .colab-df-container {\n",
              "      display:flex;\n",
              "      gap: 12px;\n",
              "    }\n",
              "\n",
              "    .colab-df-convert {\n",
              "      background-color: #E8F0FE;\n",
              "      border: none;\n",
              "      border-radius: 50%;\n",
              "      cursor: pointer;\n",
              "      display: none;\n",
              "      fill: #1967D2;\n",
              "      height: 32px;\n",
              "      padding: 0 0 0 0;\n",
              "      width: 32px;\n",
              "    }\n",
              "\n",
              "    .colab-df-convert:hover {\n",
              "      background-color: #E2EBFA;\n",
              "      box-shadow: 0px 1px 2px rgba(60, 64, 67, 0.3), 0px 1px 3px 1px rgba(60, 64, 67, 0.15);\n",
              "      fill: #174EA6;\n",
              "    }\n",
              "\n",
              "    .colab-df-buttons div {\n",
              "      margin-bottom: 4px;\n",
              "    }\n",
              "\n",
              "    [theme=dark] .colab-df-convert {\n",
              "      background-color: #3B4455;\n",
              "      fill: #D2E3FC;\n",
              "    }\n",
              "\n",
              "    [theme=dark] .colab-df-convert:hover {\n",
              "      background-color: #434B5C;\n",
              "      box-shadow: 0px 1px 3px 1px rgba(0, 0, 0, 0.15);\n",
              "      filter: drop-shadow(0px 1px 2px rgba(0, 0, 0, 0.3));\n",
              "      fill: #FFFFFF;\n",
              "    }\n",
              "  </style>\n",
              "\n",
              "    <script>\n",
              "      const buttonEl =\n",
              "        document.querySelector('#df-ba3f4cea-05a7-46d1-a230-56c27cbda560 button.colab-df-convert');\n",
              "      buttonEl.style.display =\n",
              "        google.colab.kernel.accessAllowed ? 'block' : 'none';\n",
              "\n",
              "      async function convertToInteractive(key) {\n",
              "        const element = document.querySelector('#df-ba3f4cea-05a7-46d1-a230-56c27cbda560');\n",
              "        const dataTable =\n",
              "          await google.colab.kernel.invokeFunction('convertToInteractive',\n",
              "                                                    [key], {});\n",
              "        if (!dataTable) return;\n",
              "\n",
              "        const docLinkHtml = 'Like what you see? Visit the ' +\n",
              "          '<a target=\"_blank\" href=https://colab.research.google.com/notebooks/data_table.ipynb>data table notebook</a>'\n",
              "          + ' to learn more about interactive tables.';\n",
              "        element.innerHTML = '';\n",
              "        dataTable['output_type'] = 'display_data';\n",
              "        await google.colab.output.renderOutput(dataTable, element);\n",
              "        const docLink = document.createElement('div');\n",
              "        docLink.innerHTML = docLinkHtml;\n",
              "        element.appendChild(docLink);\n",
              "      }\n",
              "    </script>\n",
              "  </div>\n",
              "\n",
              "\n",
              "<div id=\"df-3d402ceb-a335-4f90-864f-507b2bb785aa\">\n",
              "  <button class=\"colab-df-quickchart\" onclick=\"quickchart('df-3d402ceb-a335-4f90-864f-507b2bb785aa')\"\n",
              "            title=\"Suggest charts.\"\n",
              "            style=\"display:none;\">\n",
              "\n",
              "<svg xmlns=\"http://www.w3.org/2000/svg\" height=\"24px\"viewBox=\"0 0 24 24\"\n",
              "     width=\"24px\">\n",
              "    <g>\n",
              "        <path d=\"M19 3H5c-1.1 0-2 .9-2 2v14c0 1.1.9 2 2 2h14c1.1 0 2-.9 2-2V5c0-1.1-.9-2-2-2zM9 17H7v-7h2v7zm4 0h-2V7h2v10zm4 0h-2v-4h2v4z\"/>\n",
              "    </g>\n",
              "</svg>\n",
              "  </button>\n",
              "\n",
              "<style>\n",
              "  .colab-df-quickchart {\n",
              "      --bg-color: #E8F0FE;\n",
              "      --fill-color: #1967D2;\n",
              "      --hover-bg-color: #E2EBFA;\n",
              "      --hover-fill-color: #174EA6;\n",
              "      --disabled-fill-color: #AAA;\n",
              "      --disabled-bg-color: #DDD;\n",
              "  }\n",
              "\n",
              "  [theme=dark] .colab-df-quickchart {\n",
              "      --bg-color: #3B4455;\n",
              "      --fill-color: #D2E3FC;\n",
              "      --hover-bg-color: #434B5C;\n",
              "      --hover-fill-color: #FFFFFF;\n",
              "      --disabled-bg-color: #3B4455;\n",
              "      --disabled-fill-color: #666;\n",
              "  }\n",
              "\n",
              "  .colab-df-quickchart {\n",
              "    background-color: var(--bg-color);\n",
              "    border: none;\n",
              "    border-radius: 50%;\n",
              "    cursor: pointer;\n",
              "    display: none;\n",
              "    fill: var(--fill-color);\n",
              "    height: 32px;\n",
              "    padding: 0;\n",
              "    width: 32px;\n",
              "  }\n",
              "\n",
              "  .colab-df-quickchart:hover {\n",
              "    background-color: var(--hover-bg-color);\n",
              "    box-shadow: 0 1px 2px rgba(60, 64, 67, 0.3), 0 1px 3px 1px rgba(60, 64, 67, 0.15);\n",
              "    fill: var(--button-hover-fill-color);\n",
              "  }\n",
              "\n",
              "  .colab-df-quickchart-complete:disabled,\n",
              "  .colab-df-quickchart-complete:disabled:hover {\n",
              "    background-color: var(--disabled-bg-color);\n",
              "    fill: var(--disabled-fill-color);\n",
              "    box-shadow: none;\n",
              "  }\n",
              "\n",
              "  .colab-df-spinner {\n",
              "    border: 2px solid var(--fill-color);\n",
              "    border-color: transparent;\n",
              "    border-bottom-color: var(--fill-color);\n",
              "    animation:\n",
              "      spin 1s steps(1) infinite;\n",
              "  }\n",
              "\n",
              "  @keyframes spin {\n",
              "    0% {\n",
              "      border-color: transparent;\n",
              "      border-bottom-color: var(--fill-color);\n",
              "      border-left-color: var(--fill-color);\n",
              "    }\n",
              "    20% {\n",
              "      border-color: transparent;\n",
              "      border-left-color: var(--fill-color);\n",
              "      border-top-color: var(--fill-color);\n",
              "    }\n",
              "    30% {\n",
              "      border-color: transparent;\n",
              "      border-left-color: var(--fill-color);\n",
              "      border-top-color: var(--fill-color);\n",
              "      border-right-color: var(--fill-color);\n",
              "    }\n",
              "    40% {\n",
              "      border-color: transparent;\n",
              "      border-right-color: var(--fill-color);\n",
              "      border-top-color: var(--fill-color);\n",
              "    }\n",
              "    60% {\n",
              "      border-color: transparent;\n",
              "      border-right-color: var(--fill-color);\n",
              "    }\n",
              "    80% {\n",
              "      border-color: transparent;\n",
              "      border-right-color: var(--fill-color);\n",
              "      border-bottom-color: var(--fill-color);\n",
              "    }\n",
              "    90% {\n",
              "      border-color: transparent;\n",
              "      border-bottom-color: var(--fill-color);\n",
              "    }\n",
              "  }\n",
              "</style>\n",
              "\n",
              "  <script>\n",
              "    async function quickchart(key) {\n",
              "      const quickchartButtonEl =\n",
              "        document.querySelector('#' + key + ' button');\n",
              "      quickchartButtonEl.disabled = true;  // To prevent multiple clicks.\n",
              "      quickchartButtonEl.classList.add('colab-df-spinner');\n",
              "      try {\n",
              "        const charts = await google.colab.kernel.invokeFunction(\n",
              "            'suggestCharts', [key], {});\n",
              "      } catch (error) {\n",
              "        console.error('Error during call to suggestCharts:', error);\n",
              "      }\n",
              "      quickchartButtonEl.classList.remove('colab-df-spinner');\n",
              "      quickchartButtonEl.classList.add('colab-df-quickchart-complete');\n",
              "    }\n",
              "    (() => {\n",
              "      let quickchartButtonEl =\n",
              "        document.querySelector('#df-3d402ceb-a335-4f90-864f-507b2bb785aa button');\n",
              "      quickchartButtonEl.style.display =\n",
              "        google.colab.kernel.accessAllowed ? 'block' : 'none';\n",
              "    })();\n",
              "  </script>\n",
              "</div>\n",
              "    </div>\n",
              "  </div>\n"
            ]
          },
          "metadata": {},
          "execution_count": 5
        }
      ],
      "source": [
        "data_null.head()"
      ]
    },
    {
      "cell_type": "code",
      "execution_count": null,
      "id": "6787d413",
      "metadata": {
        "colab": {
          "base_uri": "https://localhost:8080/"
        },
        "id": "6787d413",
        "outputId": "75235999-75af-4fd3-b15c-33b8f454871b"
      },
      "outputs": [
        {
          "output_type": "stream",
          "name": "stdout",
          "text": [
            "<class 'pandas.core.frame.DataFrame'>\n",
            "RangeIndex: 4008 entries, 0 to 4007\n",
            "Data columns (total 51 columns):\n",
            " #   Column                       Non-Null Count  Dtype  \n",
            "---  ------                       --------------  -----  \n",
            " 0   SEQN                         3803 non-null   float64\n",
            " 1   Gender                       3809 non-null   float64\n",
            " 2   Age                          3799 non-null   float64\n",
            " 3   Annual-Family-Income         3815 non-null   float64\n",
            " 4   Ratio-Family-Income-Poverty  3789 non-null   float64\n",
            " 5   X60-sec-pulse                3820 non-null   float64\n",
            " 6   Systolic                     3792 non-null   float64\n",
            " 7   Diastolic                    3791 non-null   float64\n",
            " 8   Weight                       3798 non-null   float64\n",
            " 9   Height                       3806 non-null   float64\n",
            " 10  Body-Mass-Index              3808 non-null   float64\n",
            " 11  White-Blood-Cells            3809 non-null   float64\n",
            " 12  Lymphocyte                   3806 non-null   float64\n",
            " 13  Monocyte                     3787 non-null   float64\n",
            " 14  Eosinophils                  3804 non-null   float64\n",
            " 15  Basophils                    3800 non-null   float64\n",
            " 16  Red-Blood-Cells              3790 non-null   float64\n",
            " 17  Hemoglobin                   3802 non-null   float64\n",
            " 18  Mean-Cell-Vol                3808 non-null   float64\n",
            " 19  Mean-Cell-Hgb-Conc.          3804 non-null   float64\n",
            " 20  Mean-cell-Hemoglobin         3806 non-null   float64\n",
            " 21  Platelet-count               3812 non-null   float64\n",
            " 22  Mean-Platelet-Vol            3815 non-null   float64\n",
            " 23  Segmented-Neutrophils        3798 non-null   float64\n",
            " 24  Hematocrit                   3799 non-null   float64\n",
            " 25  Red-Cell-Distribution-Width  3802 non-null   float64\n",
            " 26  Albumin                      3809 non-null   float64\n",
            " 27  ALP                          3801 non-null   float64\n",
            " 28  AST                          3795 non-null   float64\n",
            " 29  ALT                          3800 non-null   float64\n",
            " 30  Cholesterol                  3808 non-null   float64\n",
            " 31  Creatinine                   3807 non-null   float64\n",
            " 32  Glucose                      3805 non-null   float64\n",
            " 33  GGT                          3803 non-null   float64\n",
            " 34  Iron                         3812 non-null   float64\n",
            " 35  LDH                          3812 non-null   float64\n",
            " 36  Phosphorus                   3784 non-null   float64\n",
            " 37  Bilirubin                    3811 non-null   float64\n",
            " 38  Protein                      3806 non-null   float64\n",
            " 39  Uric.Acid                    3808 non-null   float64\n",
            " 40  Triglycerides                3812 non-null   float64\n",
            " 41  Total-Cholesterol            3810 non-null   float64\n",
            " 42  HDL                          3799 non-null   float64\n",
            " 43  Glycohemoglobin              3803 non-null   float64\n",
            " 44  Vigorous-work                3809 non-null   float64\n",
            " 45  Moderate-work                3798 non-null   float64\n",
            " 46  Health-Insurance             3812 non-null   float64\n",
            " 47  Diabetes                     3798 non-null   float64\n",
            " 48  Blood-Rel-Diabetes           3793 non-null   float64\n",
            " 49  Blood-Rel-Stroke             3817 non-null   float64\n",
            " 50  CoronaryHeartDisease         3807 non-null   float64\n",
            "dtypes: float64(51)\n",
            "memory usage: 1.6 MB\n"
          ]
        }
      ],
      "source": [
        "data_null.info()"
      ]
    },
    {
      "cell_type": "code",
      "execution_count": null,
      "id": "66950420",
      "metadata": {
        "colab": {
          "base_uri": "https://localhost:8080/"
        },
        "id": "66950420",
        "outputId": "1c376a95-88e6-4495-ff46-241e84fd4e47"
      },
      "outputs": [
        {
          "output_type": "execute_result",
          "data": {
            "text/plain": [
              "SEQN                           205\n",
              "Gender                         199\n",
              "Age                            209\n",
              "Annual-Family-Income           193\n",
              "Ratio-Family-Income-Poverty    219\n",
              "X60-sec-pulse                  188\n",
              "Systolic                       216\n",
              "Diastolic                      217\n",
              "Weight                         210\n",
              "Height                         202\n",
              "Body-Mass-Index                200\n",
              "White-Blood-Cells              199\n",
              "Lymphocyte                     202\n",
              "Monocyte                       221\n",
              "Eosinophils                    204\n",
              "Basophils                      208\n",
              "Red-Blood-Cells                218\n",
              "Hemoglobin                     206\n",
              "Mean-Cell-Vol                  200\n",
              "Mean-Cell-Hgb-Conc.            204\n",
              "Mean-cell-Hemoglobin           202\n",
              "Platelet-count                 196\n",
              "Mean-Platelet-Vol              193\n",
              "Segmented-Neutrophils          210\n",
              "Hematocrit                     209\n",
              "Red-Cell-Distribution-Width    206\n",
              "Albumin                        199\n",
              "ALP                            207\n",
              "AST                            213\n",
              "ALT                            208\n",
              "Cholesterol                    200\n",
              "Creatinine                     201\n",
              "Glucose                        203\n",
              "GGT                            205\n",
              "Iron                           196\n",
              "LDH                            196\n",
              "Phosphorus                     224\n",
              "Bilirubin                      197\n",
              "Protein                        202\n",
              "Uric.Acid                      200\n",
              "Triglycerides                  196\n",
              "Total-Cholesterol              198\n",
              "HDL                            209\n",
              "Glycohemoglobin                205\n",
              "Vigorous-work                  199\n",
              "Moderate-work                  210\n",
              "Health-Insurance               196\n",
              "Diabetes                       210\n",
              "Blood-Rel-Diabetes             215\n",
              "Blood-Rel-Stroke               191\n",
              "CoronaryHeartDisease           201\n",
              "dtype: int64"
            ]
          },
          "metadata": {},
          "execution_count": 65
        }
      ],
      "source": [
        "data_null.isnull().sum()"
      ]
    },
    {
      "cell_type": "markdown",
      "source": [
        "# Cut data Null\n"
      ],
      "metadata": {
        "id": "HtPEC-N0F_AT"
      },
      "id": "HtPEC-N0F_AT"
    },
    {
      "cell_type": "code",
      "source": [
        "data_without_missing_rows = data_null.dropna(how='any')\n",
        "\n",
        "data_without_missing_rows.to_csv('/content/data_clean.csv', index=False)"
      ],
      "metadata": {
        "id": "QvM-feRYF-uJ"
      },
      "id": "QvM-feRYF-uJ",
      "execution_count": null,
      "outputs": []
    },
    {
      "cell_type": "code",
      "source": [
        "data = pd.read_csv('/content/data_clean.csv')"
      ],
      "metadata": {
        "id": "zquwAI6qGLZR"
      },
      "id": "zquwAI6qGLZR",
      "execution_count": null,
      "outputs": []
    },
    {
      "cell_type": "code",
      "source": [
        "data.info()"
      ],
      "metadata": {
        "colab": {
          "base_uri": "https://localhost:8080/"
        },
        "id": "tsSdt4VYG4WY",
        "outputId": "036e9d39-bf62-4675-c857-a2facf0434f2"
      },
      "id": "tsSdt4VYG4WY",
      "execution_count": null,
      "outputs": [
        {
          "output_type": "stream",
          "name": "stdout",
          "text": [
            "<class 'pandas.core.frame.DataFrame'>\n",
            "RangeIndex: 3608 entries, 0 to 3607\n",
            "Data columns (total 51 columns):\n",
            " #   Column                       Non-Null Count  Dtype  \n",
            "---  ------                       --------------  -----  \n",
            " 0   SEQN                         3608 non-null   float64\n",
            " 1   Gender                       3608 non-null   float64\n",
            " 2   Age                          3608 non-null   float64\n",
            " 3   Annual-Family-Income         3608 non-null   float64\n",
            " 4   Ratio-Family-Income-Poverty  3608 non-null   float64\n",
            " 5   X60-sec-pulse                3608 non-null   float64\n",
            " 6   Systolic                     3608 non-null   float64\n",
            " 7   Diastolic                    3608 non-null   float64\n",
            " 8   Weight                       3608 non-null   float64\n",
            " 9   Height                       3608 non-null   float64\n",
            " 10  Body-Mass-Index              3608 non-null   float64\n",
            " 11  White-Blood-Cells            3608 non-null   float64\n",
            " 12  Lymphocyte                   3608 non-null   float64\n",
            " 13  Monocyte                     3608 non-null   float64\n",
            " 14  Eosinophils                  3608 non-null   float64\n",
            " 15  Basophils                    3608 non-null   float64\n",
            " 16  Red-Blood-Cells              3608 non-null   float64\n",
            " 17  Hemoglobin                   3608 non-null   float64\n",
            " 18  Mean-Cell-Vol                3608 non-null   float64\n",
            " 19  Mean-Cell-Hgb-Conc.          3608 non-null   float64\n",
            " 20  Mean-cell-Hemoglobin         3608 non-null   float64\n",
            " 21  Platelet-count               3608 non-null   float64\n",
            " 22  Mean-Platelet-Vol            3608 non-null   float64\n",
            " 23  Segmented-Neutrophils        3608 non-null   float64\n",
            " 24  Hematocrit                   3608 non-null   float64\n",
            " 25  Red-Cell-Distribution-Width  3608 non-null   float64\n",
            " 26  Albumin                      3608 non-null   float64\n",
            " 27  ALP                          3608 non-null   float64\n",
            " 28  AST                          3608 non-null   float64\n",
            " 29  ALT                          3608 non-null   float64\n",
            " 30  Cholesterol                  3608 non-null   float64\n",
            " 31  Creatinine                   3608 non-null   float64\n",
            " 32  Glucose                      3608 non-null   float64\n",
            " 33  GGT                          3608 non-null   float64\n",
            " 34  Iron                         3608 non-null   float64\n",
            " 35  LDH                          3608 non-null   float64\n",
            " 36  Phosphorus                   3608 non-null   float64\n",
            " 37  Bilirubin                    3608 non-null   float64\n",
            " 38  Protein                      3608 non-null   float64\n",
            " 39  Uric.Acid                    3608 non-null   float64\n",
            " 40  Triglycerides                3608 non-null   float64\n",
            " 41  Total-Cholesterol            3608 non-null   float64\n",
            " 42  HDL                          3608 non-null   float64\n",
            " 43  Glycohemoglobin              3608 non-null   float64\n",
            " 44  Vigorous-work                3608 non-null   float64\n",
            " 45  Moderate-work                3608 non-null   float64\n",
            " 46  Health-Insurance             3608 non-null   float64\n",
            " 47  Diabetes                     3608 non-null   float64\n",
            " 48  Blood-Rel-Diabetes           3608 non-null   float64\n",
            " 49  Blood-Rel-Stroke             3608 non-null   float64\n",
            " 50  CoronaryHeartDisease         3608 non-null   float64\n",
            "dtypes: float64(51)\n",
            "memory usage: 1.4 MB\n"
          ]
        }
      ]
    },
    {
      "cell_type": "code",
      "source": [
        "data.isnull().sum()"
      ],
      "metadata": {
        "colab": {
          "base_uri": "https://localhost:8080/"
        },
        "id": "B3gU0DLuG0WG",
        "outputId": "387a552f-b074-4ad7-8d49-59862c389b16"
      },
      "id": "B3gU0DLuG0WG",
      "execution_count": null,
      "outputs": [
        {
          "output_type": "execute_result",
          "data": {
            "text/plain": [
              "SEQN                           0\n",
              "Gender                         0\n",
              "Age                            0\n",
              "Annual-Family-Income           0\n",
              "Ratio-Family-Income-Poverty    0\n",
              "X60-sec-pulse                  0\n",
              "Systolic                       0\n",
              "Diastolic                      0\n",
              "Weight                         0\n",
              "Height                         0\n",
              "Body-Mass-Index                0\n",
              "White-Blood-Cells              0\n",
              "Lymphocyte                     0\n",
              "Monocyte                       0\n",
              "Eosinophils                    0\n",
              "Basophils                      0\n",
              "Red-Blood-Cells                0\n",
              "Hemoglobin                     0\n",
              "Mean-Cell-Vol                  0\n",
              "Mean-Cell-Hgb-Conc.            0\n",
              "Mean-cell-Hemoglobin           0\n",
              "Platelet-count                 0\n",
              "Mean-Platelet-Vol              0\n",
              "Segmented-Neutrophils          0\n",
              "Hematocrit                     0\n",
              "Red-Cell-Distribution-Width    0\n",
              "Albumin                        0\n",
              "ALP                            0\n",
              "AST                            0\n",
              "ALT                            0\n",
              "Cholesterol                    0\n",
              "Creatinine                     0\n",
              "Glucose                        0\n",
              "GGT                            0\n",
              "Iron                           0\n",
              "LDH                            0\n",
              "Phosphorus                     0\n",
              "Bilirubin                      0\n",
              "Protein                        0\n",
              "Uric.Acid                      0\n",
              "Triglycerides                  0\n",
              "Total-Cholesterol              0\n",
              "HDL                            0\n",
              "Glycohemoglobin                0\n",
              "Vigorous-work                  0\n",
              "Moderate-work                  0\n",
              "Health-Insurance               0\n",
              "Diabetes                       0\n",
              "Blood-Rel-Diabetes             0\n",
              "Blood-Rel-Stroke               0\n",
              "CoronaryHeartDisease           0\n",
              "dtype: int64"
            ]
          },
          "metadata": {},
          "execution_count": 74
        }
      ]
    },
    {
      "cell_type": "code",
      "source": [
        "data['CoronaryHeartDisease'].value_counts().plot.bar(color=['salmon', 'lightblue']);\n",
        "plt.xlabel('0: No Disease, 1: Heart Disease')\n",
        "plt.ylabel('Count');"
      ],
      "metadata": {
        "colab": {
          "base_uri": "https://localhost:8080/",
          "height": 457
        },
        "id": "inbo0rv1GrhJ",
        "outputId": "bfe33f53-9e09-446b-b9ac-fdd669f69780"
      },
      "id": "inbo0rv1GrhJ",
      "execution_count": null,
      "outputs": [
        {
          "output_type": "display_data",
          "data": {
            "text/plain": [
              "<Figure size 640x480 with 1 Axes>"
            ],
            "image/png": "[encoded data removed]"
          },
          "metadata": {}
        }
      ]
    },
    {
      "cell_type": "code",
      "source": [
        "data['Gender'].value_counts()"
      ],
      "metadata": {
        "colab": {
          "base_uri": "https://localhost:8080/"
        },
        "id": "tD-BAd-JG_qe",
        "outputId": "6dfac370-22bd-4c48-822a-9026cf74a0a8"
      },
      "id": "tD-BAd-JG_qe",
      "execution_count": null,
      "outputs": [
        {
          "output_type": "execute_result",
          "data": {
            "text/plain": [
              "1.0    1958\n",
              "2.0    1650\n",
              "Name: Gender, dtype: int64"
            ]
          },
          "metadata": {},
          "execution_count": 79
        }
      ]
    },
    {
      "cell_type": "code",
      "source": [
        "pd.crosstab(data['Gender'], data_null['CoronaryHeartDisease'])"
      ],
      "metadata": {
        "colab": {
          "base_uri": "https://localhost:8080/",
          "height": 144
        },
        "id": "7GUEnODoHEgZ",
        "outputId": "484b40f2-1cae-499f-fd61-a9e682cb18e0"
      },
      "id": "7GUEnODoHEgZ",
      "execution_count": null,
      "outputs": [
        {
          "output_type": "execute_result",
          "data": {
            "text/plain": [
              "CoronaryHeartDisease   0.0  1.0\n",
              "Gender                         \n",
              "1.0                   1146  720\n",
              "2.0                   1230  336"
            ],
            "text/html": [
              "\n",
              "  <div id=\"df-91b1f868-856a-4ed9-a536-e8e0cab3ce2e\" class=\"colab-df-container\">\n",
              "    <div>\n",
              "<style scoped>\n",
              "    .dataframe tbody tr th:only-of-type {\n",
              "        vertical-align: middle;\n",
              "    }\n",
              "\n",
              "    .dataframe tbody tr th {\n",
              "        vertical-align: top;\n",
              "    }\n",
              "\n",
              "    .dataframe thead th {\n",
              "        text-align: right;\n",
              "    }\n",
              "</style>\n",
              "<table border=\"1\" class=\"dataframe\">\n",
              "  <thead>\n",
              "    <tr style=\"text-align: right;\">\n",
              "      <th>CoronaryHeartDisease</th>\n",
              "      <th>0.0</th>\n",
              "      <th>1.0</th>\n",
              "    </tr>\n",
              "    <tr>\n",
              "      <th>Gender</th>\n",
              "      <th></th>\n",
              "      <th></th>\n",
              "    </tr>\n",
              "  </thead>\n",
              "  <tbody>\n",
              "    <tr>\n",
              "      <th>1.0</th>\n",
              "      <td>1146</td>\n",
              "      <td>720</td>\n",
              "    </tr>\n",
              "    <tr>\n",
              "      <th>2.0</th>\n",
              "      <td>1230</td>\n",
              "      <td>336</td>\n",
              "    </tr>\n",
              "  </tbody>\n",
              "</table>\n",
              "</div>\n",
              "    <div class=\"colab-df-buttons\">\n",
              "\n",
              "  <div class=\"colab-df-container\">\n",
              "    <button class=\"colab-df-convert\" onclick=\"convertToInteractive('df-91b1f868-856a-4ed9-a536-e8e0cab3ce2e')\"\n",
              "            title=\"Convert this dataframe to an interactive table.\"\n",
              "            style=\"display:none;\">\n",
              "\n",
              "  <svg xmlns=\"http://www.w3.org/2000/svg\" height=\"24px\" viewBox=\"0 -960 960 960\">\n",
              "    <path d=\"M120-120v-720h720v720H120Zm60-500h600v-160H180v160Zm220 220h160v-160H400v160Zm0 220h160v-160H400v160ZM180-400h160v-160H180v160Zm440 0h160v-160H620v160ZM180-180h160v-160H180v160Zm440 0h160v-160H620v160Z\"/>\n",
              "  </svg>\n",
              "    </button>\n",
              "\n",
              "  <style>\n",
              "    .colab-df-container {\n",
              "      display:flex;\n",
              "      gap: 12px;\n",
              "    }\n",
              "\n",
              "    .colab-df-convert {\n",
              "      background-color: #E8F0FE;\n",
              "      border: none;\n",
              "      border-radius: 50%;\n",
              "      cursor: pointer;\n",
              "      display: none;\n",
              "      fill: #1967D2;\n",
              "      height: 32px;\n",
              "      padding: 0 0 0 0;\n",
              "      width: 32px;\n",
              "    }\n",
              "\n",
              "    .colab-df-convert:hover {\n",
              "      background-color: #E2EBFA;\n",
              "      box-shadow: 0px 1px 2px rgba(60, 64, 67, 0.3), 0px 1px 3px 1px rgba(60, 64, 67, 0.15);\n",
              "      fill: #174EA6;\n",
              "    }\n",
              "\n",
              "    .colab-df-buttons div {\n",
              "      margin-bottom: 4px;\n",
              "    }\n",
              "\n",
              "    [theme=dark] .colab-df-convert {\n",
              "      background-color: #3B4455;\n",
              "      fill: #D2E3FC;\n",
              "    }\n",
              "\n",
              "    [theme=dark] .colab-df-convert:hover {\n",
              "      background-color: #434B5C;\n",
              "      box-shadow: 0px 1px 3px 1px rgba(0, 0, 0, 0.15);\n",
              "      filter: drop-shadow(0px 1px 2px rgba(0, 0, 0, 0.3));\n",
              "      fill: #FFFFFF;\n",
              "    }\n",
              "  </style>\n",
              "\n",
              "    <script>\n",
              "      const buttonEl =\n",
              "        document.querySelector('#df-91b1f868-856a-4ed9-a536-e8e0cab3ce2e button.colab-df-convert');\n",
              "      buttonEl.style.display =\n",
              "        google.colab.kernel.accessAllowed ? 'block' : 'none';\n",
              "\n",
              "      async function convertToInteractive(key) {\n",
              "        const element = document.querySelector('#df-91b1f868-856a-4ed9-a536-e8e0cab3ce2e');\n",
              "        const dataTable =\n",
              "          await google.colab.kernel.invokeFunction('convertToInteractive',\n",
              "                                                    [key], {});\n",
              "        if (!dataTable) return;\n",
              "\n",
              "        const docLinkHtml = 'Like what you see? Visit the ' +\n",
              "          '<a target=\"_blank\" href=https://colab.research.google.com/notebooks/data_table.ipynb>data table notebook</a>'\n",
              "          + ' to learn more about interactive tables.';\n",
              "        element.innerHTML = '';\n",
              "        dataTable['output_type'] = 'display_data';\n",
              "        await google.colab.output.renderOutput(dataTable, element);\n",
              "        const docLink = document.createElement('div');\n",
              "        docLink.innerHTML = docLinkHtml;\n",
              "        element.appendChild(docLink);\n",
              "      }\n",
              "    </script>\n",
              "  </div>\n",
              "\n",
              "\n",
              "<div id=\"df-4031bf6d-8982-4bbb-b587-b1a3e6abf181\">\n",
              "  <button class=\"colab-df-quickchart\" onclick=\"quickchart('df-4031bf6d-8982-4bbb-b587-b1a3e6abf181')\"\n",
              "            title=\"Suggest charts.\"\n",
              "            style=\"display:none;\">\n",
              "\n",
              "<svg xmlns=\"http://www.w3.org/2000/svg\" height=\"24px\"viewBox=\"0 0 24 24\"\n",
              "     width=\"24px\">\n",
              "    <g>\n",
              "        <path d=\"M19 3H5c-1.1 0-2 .9-2 2v14c0 1.1.9 2 2 2h14c1.1 0 2-.9 2-2V5c0-1.1-.9-2-2-2zM9 17H7v-7h2v7zm4 0h-2V7h2v10zm4 0h-2v-4h2v4z\"/>\n",
              "    </g>\n",
              "</svg>\n",
              "  </button>\n",
              "\n",
              "<style>\n",
              "  .colab-df-quickchart {\n",
              "      --bg-color: #E8F0FE;\n",
              "      --fill-color: #1967D2;\n",
              "      --hover-bg-color: #E2EBFA;\n",
              "      --hover-fill-color: #174EA6;\n",
              "      --disabled-fill-color: #AAA;\n",
              "      --disabled-bg-color: #DDD;\n",
              "  }\n",
              "\n",
              "  [theme=dark] .colab-df-quickchart {\n",
              "      --bg-color: #3B4455;\n",
              "      --fill-color: #D2E3FC;\n",
              "      --hover-bg-color: #434B5C;\n",
              "      --hover-fill-color: #FFFFFF;\n",
              "      --disabled-bg-color: #3B4455;\n",
              "      --disabled-fill-color: #666;\n",
              "  }\n",
              "\n",
              "  .colab-df-quickchart {\n",
              "    background-color: var(--bg-color);\n",
              "    border: none;\n",
              "    border-radius: 50%;\n",
              "    cursor: pointer;\n",
              "    display: none;\n",
              "    fill: var(--fill-color);\n",
              "    height: 32px;\n",
              "    padding: 0;\n",
              "    width: 32px;\n",
              "  }\n",
              "\n",
              "  .colab-df-quickchart:hover {\n",
              "    background-color: var(--hover-bg-color);\n",
              "    box-shadow: 0 1px 2px rgba(60, 64, 67, 0.3), 0 1px 3px 1px rgba(60, 64, 67, 0.15);\n",
              "    fill: var(--button-hover-fill-color);\n",
              "  }\n",
              "\n",
              "  .colab-df-quickchart-complete:disabled,\n",
              "  .colab-df-quickchart-complete:disabled:hover {\n",
              "    background-color: var(--disabled-bg-color);\n",
              "    fill: var(--disabled-fill-color);\n",
              "    box-shadow: none;\n",
              "  }\n",
              "\n",
              "  .colab-df-spinner {\n",
              "    border: 2px solid var(--fill-color);\n",
              "    border-color: transparent;\n",
              "    border-bottom-color: var(--fill-color);\n",
              "    animation:\n",
              "      spin 1s steps(1) infinite;\n",
              "  }\n",
              "\n",
              "  @keyframes spin {\n",
              "    0% {\n",
              "      border-color: transparent;\n",
              "      border-bottom-color: var(--fill-color);\n",
              "      border-left-color: var(--fill-color);\n",
              "    }\n",
              "    20% {\n",
              "      border-color: transparent;\n",
              "      border-left-color: var(--fill-color);\n",
              "      border-top-color: var(--fill-color);\n",
              "    }\n",
              "    30% {\n",
              "      border-color: transparent;\n",
              "      border-left-color: var(--fill-color);\n",
              "      border-top-color: var(--fill-color);\n",
              "      border-right-color: var(--fill-color);\n",
              "    }\n",
              "    40% {\n",
              "      border-color: transparent;\n",
              "      border-right-color: var(--fill-color);\n",
              "      border-top-color: var(--fill-color);\n",
              "    }\n",
              "    60% {\n",
              "      border-color: transparent;\n",
              "      border-right-color: var(--fill-color);\n",
              "    }\n",
              "    80% {\n",
              "      border-color: transparent;\n",
              "      border-right-color: var(--fill-color);\n",
              "      border-bottom-color: var(--fill-color);\n",
              "    }\n",
              "    90% {\n",
              "      border-color: transparent;\n",
              "      border-bottom-color: var(--fill-color);\n",
              "    }\n",
              "  }\n",
              "</style>\n",
              "\n",
              "  <script>\n",
              "    async function quickchart(key) {\n",
              "      const quickchartButtonEl =\n",
              "        document.querySelector('#' + key + ' button');\n",
              "      quickchartButtonEl.disabled = true;  // To prevent multiple clicks.\n",
              "      quickchartButtonEl.classList.add('colab-df-spinner');\n",
              "      try {\n",
              "        const charts = await google.colab.kernel.invokeFunction(\n",
              "            'suggestCharts', [key], {});\n",
              "      } catch (error) {\n",
              "        console.error('Error during call to suggestCharts:', error);\n",
              "      }\n",
              "      quickchartButtonEl.classList.remove('colab-df-spinner');\n",
              "      quickchartButtonEl.classList.add('colab-df-quickchart-complete');\n",
              "    }\n",
              "    (() => {\n",
              "      let quickchartButtonEl =\n",
              "        document.querySelector('#df-4031bf6d-8982-4bbb-b587-b1a3e6abf181 button');\n",
              "      quickchartButtonEl.style.display =\n",
              "        google.colab.kernel.accessAllowed ? 'block' : 'none';\n",
              "    })();\n",
              "  </script>\n",
              "</div>\n",
              "    </div>\n",
              "  </div>\n"
            ]
          },
          "metadata": {},
          "execution_count": 80
        }
      ]
    },
    {
      "cell_type": "code",
      "source": [
        "pd.crosstab(data['Gender'], data['CoronaryHeartDisease']).plot(kind='bar');\n",
        "plt.title('Heart disease frequency by Sex')\n",
        "plt.xlabel('1: No Disease, 2: Heart Disease ')\n",
        "plt.ylabel('Count')\n",
        "plt.legend(['Female', 'Male']);\n",
        "plt.xticks(rotation=0);"
      ],
      "metadata": {
        "colab": {
          "base_uri": "https://localhost:8080/",
          "height": 472
        },
        "id": "Kgkh1ggLHFvg",
        "outputId": "3226891d-1707-4537-8b89-a7226ba9c90f"
      },
      "id": "Kgkh1ggLHFvg",
      "execution_count": null,
      "outputs": [
        {
          "output_type": "display_data",
          "data": {
            "text/plain": [
              "<Figure size 640x480 with 1 Axes>"
            ],
            "image/png": "[encoded data removed]"
          },
          "metadata": {}
        }
      ]
    },
    {
      "cell_type": "code",
      "source": [
        "sns.histplot(data=data_null, x='Age', bins=30, hue='CoronaryHeartDisease', kde=True)\n",
        "\n",
        "# Đặt tiêu đề và label cho biểu đồ\n",
        "plt.title('Biểu đồ Histogram của Age với màu sắc dựa trên CoronaryHeartDisease')\n",
        "plt.xlabel('Age')\n",
        "plt.ylabel('Số lượng')\n",
        "\n",
        "# Hiển thị biểu đồ\n",
        "plt.show()\n"
      ],
      "metadata": {
        "colab": {
          "base_uri": "https://localhost:8080/",
          "height": 474
        },
        "id": "1GANE2XSHSUV",
        "outputId": "442fc08f-5e91-4b35-8bba-0651da937d07"
      },
      "id": "1GANE2XSHSUV",
      "execution_count": null,
      "outputs": [
        {
          "output_type": "display_data",
          "data": {
            "text/plain": [
              "<Figure size 640x480 with 1 Axes>"
            ],
            "image/png": "[encoded data removed]"
          },
          "metadata": {}
        }
      ]
    },
    {
      "cell_type": "code",
      "source": [
        "sns.histplot(data=data, x=data['Age'], bins=30);"
      ],
      "metadata": {
        "id": "6qoI7kvJHSRP",
        "colab": {
          "base_uri": "https://localhost:8080/",
          "height": 449
        },
        "outputId": "d461a637-4274-4327-f82c-c480493a6401"
      },
      "id": "6qoI7kvJHSRP",
      "execution_count": null,
      "outputs": [
        {
          "output_type": "display_data",
          "data": {
            "text/plain": [
              "<Figure size 640x480 with 1 Axes>"
            ],
            "image/png": "[encoded data removed]"
          },
          "metadata": {}
        }
      ]
    },
    {
      "cell_type": "code",
      "source": [],
      "metadata": {
        "id": "J0zNzherJT8t"
      },
      "id": "J0zNzherJT8t",
      "execution_count": null,
      "outputs": []
    },
    {
      "cell_type": "markdown",
      "id": "54b9e589",
      "metadata": {
        "id": "54b9e589"
      },
      "source": [
        "# Modelling"
      ]
    },
    {
      "cell_type": "code",
      "execution_count": null,
      "id": "c8e0c9ca",
      "metadata": {
        "colab": {
          "base_uri": "https://localhost:8080/",
          "height": 194
        },
        "id": "c8e0c9ca",
        "outputId": "b42fd3d4-af48-41d3-8825-ad1f254c1e71"
      },
      "outputs": [
        {
          "output_type": "execute_result",
          "data": {
            "text/plain": [
              "      SEQN  Gender   Age  Annual-Family-Income  Ratio-Family-Income-Poverty  \\\n",
              "0  13693.0     2.0  43.0                  10.0                          5.0   \n",
              "1   7067.0     2.0  39.0                  11.0                          5.0   \n",
              "\n",
              "   X60-sec-pulse  Systolic  Diastolic  Weight  Height  ...  Total-Cholesterol  \\\n",
              "0           96.0     120.0       85.0   112.3   159.5  ...               4.55   \n",
              "1           56.0     109.0       72.0    64.1   166.4  ...               4.24   \n",
              "\n",
              "    HDL  Glycohemoglobin  Vigorous-work  Moderate-work  Health-Insurance  \\\n",
              "0  1.01              5.5            2.0            1.0               1.0   \n",
              "1  1.66              4.9            2.0            1.0               1.0   \n",
              "\n",
              "   Diabetes  Blood-Rel-Diabetes  Blood-Rel-Stroke  CoronaryHeartDisease  \n",
              "0       2.0                 1.0               1.0                   0.0  \n",
              "1       2.0                 2.0               1.0                   0.0  \n",
              "\n",
              "[2 rows x 51 columns]"
            ],
            "text/html": [
              "\n",
              "  <div id=\"df-51a297bf-850c-4786-a6c0-001a79b407fe\" class=\"colab-df-container\">\n",
              "    <div>\n",
              "<style scoped>\n",
              "    .dataframe tbody tr th:only-of-type {\n",
              "        vertical-align: middle;\n",
              "    }\n",
              "\n",
              "    .dataframe tbody tr th {\n",
              "        vertical-align: top;\n",
              "    }\n",
              "\n",
              "    .dataframe thead th {\n",
              "        text-align: right;\n",
              "    }\n",
              "</style>\n",
              "<table border=\"1\" class=\"dataframe\">\n",
              "  <thead>\n",
              "    <tr style=\"text-align: right;\">\n",
              "      <th></th>\n",
              "      <th>SEQN</th>\n",
              "      <th>Gender</th>\n",
              "      <th>Age</th>\n",
              "      <th>Annual-Family-Income</th>\n",
              "      <th>Ratio-Family-Income-Poverty</th>\n",
              "      <th>X60-sec-pulse</th>\n",
              "      <th>Systolic</th>\n",
              "      <th>Diastolic</th>\n",
              "      <th>Weight</th>\n",
              "      <th>Height</th>\n",
              "      <th>...</th>\n",
              "      <th>Total-Cholesterol</th>\n",
              "      <th>HDL</th>\n",
              "      <th>Glycohemoglobin</th>\n",
              "      <th>Vigorous-work</th>\n",
              "      <th>Moderate-work</th>\n",
              "      <th>Health-Insurance</th>\n",
              "      <th>Diabetes</th>\n",
              "      <th>Blood-Rel-Diabetes</th>\n",
              "      <th>Blood-Rel-Stroke</th>\n",
              "      <th>CoronaryHeartDisease</th>\n",
              "    </tr>\n",
              "  </thead>\n",
              "  <tbody>\n",
              "    <tr>\n",
              "      <th>0</th>\n",
              "      <td>13693.0</td>\n",
              "      <td>2.0</td>\n",
              "      <td>43.0</td>\n",
              "      <td>10.0</td>\n",
              "      <td>5.0</td>\n",
              "      <td>96.0</td>\n",
              "      <td>120.0</td>\n",
              "      <td>85.0</td>\n",
              "      <td>112.3</td>\n",
              "      <td>159.5</td>\n",
              "      <td>...</td>\n",
              "      <td>4.55</td>\n",
              "      <td>1.01</td>\n",
              "      <td>5.5</td>\n",
              "      <td>2.0</td>\n",
              "      <td>1.0</td>\n",
              "      <td>1.0</td>\n",
              "      <td>2.0</td>\n",
              "      <td>1.0</td>\n",
              "      <td>1.0</td>\n",
              "      <td>0.0</td>\n",
              "    </tr>\n",
              "    <tr>\n",
              "      <th>1</th>\n",
              "      <td>7067.0</td>\n",
              "      <td>2.0</td>\n",
              "      <td>39.0</td>\n",
              "      <td>11.0</td>\n",
              "      <td>5.0</td>\n",
              "      <td>56.0</td>\n",
              "      <td>109.0</td>\n",
              "      <td>72.0</td>\n",
              "      <td>64.1</td>\n",
              "      <td>166.4</td>\n",
              "      <td>...</td>\n",
              "      <td>4.24</td>\n",
              "      <td>1.66</td>\n",
              "      <td>4.9</td>\n",
              "      <td>2.0</td>\n",
              "      <td>1.0</td>\n",
              "      <td>1.0</td>\n",
              "      <td>2.0</td>\n",
              "      <td>2.0</td>\n",
              "      <td>1.0</td>\n",
              "      <td>0.0</td>\n",
              "    </tr>\n",
              "  </tbody>\n",
              "</table>\n",
              "<p>2 rows × 51 columns</p>\n",
              "</div>\n",
              "    <div class=\"colab-df-buttons\">\n",
              "\n",
              "  <div class=\"colab-df-container\">\n",
              "    <button class=\"colab-df-convert\" onclick=\"convertToInteractive('df-51a297bf-850c-4786-a6c0-001a79b407fe')\"\n",
              "            title=\"Convert this dataframe to an interactive table.\"\n",
              "            style=\"display:none;\">\n",
              "\n",
              "  <svg xmlns=\"http://www.w3.org/2000/svg\" height=\"24px\" viewBox=\"0 -960 960 960\">\n",
              "    <path d=\"M120-120v-720h720v720H120Zm60-500h600v-160H180v160Zm220 220h160v-160H400v160Zm0 220h160v-160H400v160ZM180-400h160v-160H180v160Zm440 0h160v-160H620v160ZM180-180h160v-160H180v160Zm440 0h160v-160H620v160Z\"/>\n",
              "  </svg>\n",
              "    </button>\n",
              "\n",
              "  <style>\n",
              "    .colab-df-container {\n",
              "      display:flex;\n",
              "      gap: 12px;\n",
              "    }\n",
              "\n",
              "    .colab-df-convert {\n",
              "      background-color: #E8F0FE;\n",
              "      border: none;\n",
              "      border-radius: 50%;\n",
              "      cursor: pointer;\n",
              "      display: none;\n",
              "      fill: #1967D2;\n",
              "      height: 32px;\n",
              "      padding: 0 0 0 0;\n",
              "      width: 32px;\n",
              "    }\n",
              "\n",
              "    .colab-df-convert:hover {\n",
              "      background-color: #E2EBFA;\n",
              "      box-shadow: 0px 1px 2px rgba(60, 64, 67, 0.3), 0px 1px 3px 1px rgba(60, 64, 67, 0.15);\n",
              "      fill: #174EA6;\n",
              "    }\n",
              "\n",
              "    .colab-df-buttons div {\n",
              "      margin-bottom: 4px;\n",
              "    }\n",
              "\n",
              "    [theme=dark] .colab-df-convert {\n",
              "      background-color: #3B4455;\n",
              "      fill: #D2E3FC;\n",
              "    }\n",
              "\n",
              "    [theme=dark] .colab-df-convert:hover {\n",
              "      background-color: #434B5C;\n",
              "      box-shadow: 0px 1px 3px 1px rgba(0, 0, 0, 0.15);\n",
              "      filter: drop-shadow(0px 1px 2px rgba(0, 0, 0, 0.3));\n",
              "      fill: #FFFFFF;\n",
              "    }\n",
              "  </style>\n",
              "\n",
              "    <script>\n",
              "      const buttonEl =\n",
              "        document.querySelector('#df-51a297bf-850c-4786-a6c0-001a79b407fe button.colab-df-convert');\n",
              "      buttonEl.style.display =\n",
              "        google.colab.kernel.accessAllowed ? 'block' : 'none';\n",
              "\n",
              "      async function convertToInteractive(key) {\n",
              "        const element = document.querySelector('#df-51a297bf-850c-4786-a6c0-001a79b407fe');\n",
              "        const dataTable =\n",
              "          await google.colab.kernel.invokeFunction('convertToInteractive',\n",
              "                                                    [key], {});\n",
              "        if (!dataTable) return;\n",
              "\n",
              "        const docLinkHtml = 'Like what you see? Visit the ' +\n",
              "          '<a target=\"_blank\" href=https://colab.research.google.com/notebooks/data_table.ipynb>data table notebook</a>'\n",
              "          + ' to learn more about interactive tables.';\n",
              "        element.innerHTML = '';\n",
              "        dataTable['output_type'] = 'display_data';\n",
              "        await google.colab.output.renderOutput(dataTable, element);\n",
              "        const docLink = document.createElement('div');\n",
              "        docLink.innerHTML = docLinkHtml;\n",
              "        element.appendChild(docLink);\n",
              "      }\n",
              "    </script>\n",
              "  </div>\n",
              "\n",
              "\n",
              "<div id=\"df-14407da2-ecbe-4ec5-bf41-75acf476d68a\">\n",
              "  <button class=\"colab-df-quickchart\" onclick=\"quickchart('df-14407da2-ecbe-4ec5-bf41-75acf476d68a')\"\n",
              "            title=\"Suggest charts.\"\n",
              "            style=\"display:none;\">\n",
              "\n",
              "<svg xmlns=\"http://www.w3.org/2000/svg\" height=\"24px\"viewBox=\"0 0 24 24\"\n",
              "     width=\"24px\">\n",
              "    <g>\n",
              "        <path d=\"M19 3H5c-1.1 0-2 .9-2 2v14c0 1.1.9 2 2 2h14c1.1 0 2-.9 2-2V5c0-1.1-.9-2-2-2zM9 17H7v-7h2v7zm4 0h-2V7h2v10zm4 0h-2v-4h2v4z\"/>\n",
              "    </g>\n",
              "</svg>\n",
              "  </button>\n",
              "\n",
              "<style>\n",
              "  .colab-df-quickchart {\n",
              "      --bg-color: #E8F0FE;\n",
              "      --fill-color: #1967D2;\n",
              "      --hover-bg-color: #E2EBFA;\n",
              "      --hover-fill-color: #174EA6;\n",
              "      --disabled-fill-color: #AAA;\n",
              "      --disabled-bg-color: #DDD;\n",
              "  }\n",
              "\n",
              "  [theme=dark] .colab-df-quickchart {\n",
              "      --bg-color: #3B4455;\n",
              "      --fill-color: #D2E3FC;\n",
              "      --hover-bg-color: #434B5C;\n",
              "      --hover-fill-color: #FFFFFF;\n",
              "      --disabled-bg-color: #3B4455;\n",
              "      --disabled-fill-color: #666;\n",
              "  }\n",
              "\n",
              "  .colab-df-quickchart {\n",
              "    background-color: var(--bg-color);\n",
              "    border: none;\n",
              "    border-radius: 50%;\n",
              "    cursor: pointer;\n",
              "    display: none;\n",
              "    fill: var(--fill-color);\n",
              "    height: 32px;\n",
              "    padding: 0;\n",
              "    width: 32px;\n",
              "  }\n",
              "\n",
              "  .colab-df-quickchart:hover {\n",
              "    background-color: var(--hover-bg-color);\n",
              "    box-shadow: 0 1px 2px rgba(60, 64, 67, 0.3), 0 1px 3px 1px rgba(60, 64, 67, 0.15);\n",
              "    fill: var(--button-hover-fill-color);\n",
              "  }\n",
              "\n",
              "  .colab-df-quickchart-complete:disabled,\n",
              "  .colab-df-quickchart-complete:disabled:hover {\n",
              "    background-color: var(--disabled-bg-color);\n",
              "    fill: var(--disabled-fill-color);\n",
              "    box-shadow: none;\n",
              "  }\n",
              "\n",
              "  .colab-df-spinner {\n",
              "    border: 2px solid var(--fill-color);\n",
              "    border-color: transparent;\n",
              "    border-bottom-color: var(--fill-color);\n",
              "    animation:\n",
              "      spin 1s steps(1) infinite;\n",
              "  }\n",
              "\n",
              "  @keyframes spin {\n",
              "    0% {\n",
              "      border-color: transparent;\n",
              "      border-bottom-color: var(--fill-color);\n",
              "      border-left-color: var(--fill-color);\n",
              "    }\n",
              "    20% {\n",
              "      border-color: transparent;\n",
              "      border-left-color: var(--fill-color);\n",
              "      border-top-color: var(--fill-color);\n",
              "    }\n",
              "    30% {\n",
              "      border-color: transparent;\n",
              "      border-left-color: var(--fill-color);\n",
              "      border-top-color: var(--fill-color);\n",
              "      border-right-color: var(--fill-color);\n",
              "    }\n",
              "    40% {\n",
              "      border-color: transparent;\n",
              "      border-right-color: var(--fill-color);\n",
              "      border-top-color: var(--fill-color);\n",
              "    }\n",
              "    60% {\n",
              "      border-color: transparent;\n",
              "      border-right-color: var(--fill-color);\n",
              "    }\n",
              "    80% {\n",
              "      border-color: transparent;\n",
              "      border-right-color: var(--fill-color);\n",
              "      border-bottom-color: var(--fill-color);\n",
              "    }\n",
              "    90% {\n",
              "      border-color: transparent;\n",
              "      border-bottom-color: var(--fill-color);\n",
              "    }\n",
              "  }\n",
              "</style>\n",
              "\n",
              "  <script>\n",
              "    async function quickchart(key) {\n",
              "      const quickchartButtonEl =\n",
              "        document.querySelector('#' + key + ' button');\n",
              "      quickchartButtonEl.disabled = true;  // To prevent multiple clicks.\n",
              "      quickchartButtonEl.classList.add('colab-df-spinner');\n",
              "      try {\n",
              "        const charts = await google.colab.kernel.invokeFunction(\n",
              "            'suggestCharts', [key], {});\n",
              "      } catch (error) {\n",
              "        console.error('Error during call to suggestCharts:', error);\n",
              "      }\n",
              "      quickchartButtonEl.classList.remove('colab-df-spinner');\n",
              "      quickchartButtonEl.classList.add('colab-df-quickchart-complete');\n",
              "    }\n",
              "    (() => {\n",
              "      let quickchartButtonEl =\n",
              "        document.querySelector('#df-14407da2-ecbe-4ec5-bf41-75acf476d68a button');\n",
              "      quickchartButtonEl.style.display =\n",
              "        google.colab.kernel.accessAllowed ? 'block' : 'none';\n",
              "    })();\n",
              "  </script>\n",
              "</div>\n",
              "    </div>\n",
              "  </div>\n"
            ]
          },
          "metadata": {},
          "execution_count": 83
        }
      ],
      "source": [
        "data.head(2)"
      ]
    },
    {
      "cell_type": "code",
      "execution_count": null,
      "id": "4710dc65",
      "metadata": {
        "id": "4710dc65"
      },
      "outputs": [],
      "source": [
        "# split features and labels\n",
        "X = data.drop('CoronaryHeartDisease', axis=1)\n",
        "y = data['CoronaryHeartDisease']"
      ]
    },
    {
      "cell_type": "code",
      "execution_count": null,
      "id": "f29addbe",
      "metadata": {
        "id": "f29addbe"
      },
      "outputs": [],
      "source": [
        "# split into training, testing datasets\n",
        "X_train, X_test, y_train, y_test = train_test_split(X, y, test_size=0.2, random_state=42)"
      ]
    },
    {
      "cell_type": "code",
      "execution_count": null,
      "id": "3310fd38",
      "metadata": {
        "colab": {
          "base_uri": "https://localhost:8080/"
        },
        "id": "3310fd38",
        "outputId": "e6edb4a0-c18b-41f1-8c1c-0dd48c365799"
      },
      "outputs": [
        {
          "output_type": "execute_result",
          "data": {
            "text/plain": [
              "((2886, 50), (722, 50), (2886,), (722,))"
            ]
          },
          "metadata": {},
          "execution_count": 86
        }
      ],
      "source": [
        "X_train.shape, X_test.shape, y_train.shape, y_test.shape"
      ]
    },
    {
      "cell_type": "markdown",
      "source": [
        "# Random Forest model for \"Grid search\""
      ],
      "metadata": {
        "id": "OUwO0FyMChNO"
      },
      "id": "OUwO0FyMChNO"
    },
    {
      "cell_type": "code",
      "source": [
        "RANDOM_STATE = 101"
      ],
      "metadata": {
        "id": "BMSU_3snAqoE"
      },
      "id": "BMSU_3snAqoE",
      "execution_count": null,
      "outputs": []
    },
    {
      "cell_type": "code",
      "source": [
        "import warnings\n",
        "warnings.filterwarnings('ignore')\n",
        "import pandas as pd\n",
        "import numpy as np\n",
        "np.random.seed(RANDOM_STATE)\n",
        "import os\n",
        "import itertools\n",
        "import matplotlib.pyplot as plt\n",
        "import seaborn as sns\n",
        "\n",
        "from sklearn.pipeline import Pipeline\n",
        "from sklearn.preprocessing import StandardScaler, RobustScaler\n",
        "from sklearn.model_selection import train_test_split, StratifiedKFold, GridSearchCV, cross_val_score\n",
        "from sklearn.ensemble import RandomForestClassifier, GradientBoostingClassifier\n",
        "from sklearn.metrics import confusion_matrix, classification_report"
      ],
      "metadata": {
        "id": "zHBOf06eAHBS"
      },
      "id": "zHBOf06eAHBS",
      "execution_count": null,
      "outputs": []
    },
    {
      "cell_type": "code",
      "source": [
        "parameter_grid = {'n_estimators': [80, 100, 120],\n",
        "                 'max_depth': [5, 10, 15],\n",
        "                 'max_features': [5, 6, 7]}\n",
        "n_splits = 5\n",
        "\n",
        "rf_model = RandomForestClassifier(n_estimators = 100, criterion = 'gini', random_state = RANDOM_STATE)\n",
        "\n",
        "# Initialize StratifiedKFold without setting random_state and with shuffle=True\n",
        "strat_cv = StratifiedKFold(n_splits=n_splits, shuffle=True)\n",
        "\n",
        "clf = GridSearchCV(estimator = rf_model,\n",
        "                   param_grid = parameter_grid,\n",
        "                   cv = strat_cv,\n",
        "                   scoring = 'recall',\n",
        "                   n_jobs = -1,\n",
        "                  refit = True)"
      ],
      "metadata": {
        "id": "5l9ms09zABZG"
      },
      "id": "5l9ms09zABZG",
      "execution_count": null,
      "outputs": []
    },
    {
      "cell_type": "code",
      "source": [
        "clf.fit(X_train, y_train)"
      ],
      "metadata": {
        "colab": {
          "base_uri": "https://localhost:8080/",
          "height": 119
        },
        "id": "AlXXY14yBVUg",
        "outputId": "b555abcf-79cb-4944-e3c9-136e75bf03bb"
      },
      "id": "AlXXY14yBVUg",
      "execution_count": null,
      "outputs": [
        {
          "output_type": "execute_result",
          "data": {
            "text/plain": [
              "GridSearchCV(cv=StratifiedKFold(n_splits=5, random_state=None, shuffle=True),\n",
              "             estimator=RandomForestClassifier(random_state=101), n_jobs=-1,\n",
              "             param_grid={'max_depth': [5, 10, 15], 'max_features': [5, 6, 7],\n",
              "                         'n_estimators': [80, 100, 120]},\n",
              "             scoring='recall')"
            ],
            "text/html": [
              "<style>#sk-container-id-1 {color: black;background-color: white;}#sk-container-id-1 pre{padding: 0;}#sk-container-id-1 div.sk-toggleable {background-color: white;}#sk-container-id-1 label.sk-toggleable__label {cursor: pointer;display: block;width: 100%;margin-bottom: 0;padding: 0.3em;box-sizing: border-box;text-align: center;}#sk-container-id-1 label.sk-toggleable__label-arrow:before {content: \"▸\";float: left;margin-right: 0.25em;color: #696969;}#sk-container-id-1 label.sk-toggleable__label-arrow:hover:before {color: black;}#sk-container-id-1 div.sk-estimator:hover label.sk-toggleable__label-arrow:before {color: black;}#sk-container-id-1 div.sk-toggleable__content {max-height: 0;max-width: 0;overflow: hidden;text-align: left;background-color: #f0f8ff;}#sk-container-id-1 div.sk-toggleable__content pre {margin: 0.2em;color: black;border-radius: 0.25em;background-color: #f0f8ff;}#sk-container-id-1 input.sk-toggleable__control:checked~div.sk-toggleable__content {max-height: 200px;max-width: 100%;overflow: auto;}#sk-container-id-1 input.sk-toggleable__control:checked~label.sk-toggleable__label-arrow:before {content: \"▾\";}#sk-container-id-1 div.sk-estimator input.sk-toggleable__control:checked~label.sk-toggleable__label {background-color: #d4ebff;}#sk-container-id-1 div.sk-label input.sk-toggleable__control:checked~label.sk-toggleable__label {background-color: #d4ebff;}#sk-container-id-1 input.sk-hidden--visually {border: 0;clip: rect(1px 1px 1px 1px);clip: rect(1px, 1px, 1px, 1px);height: 1px;margin: -1px;overflow: hidden;padding: 0;position: absolute;width: 1px;}#sk-container-id-1 div.sk-estimator {font-family: monospace;background-color: #f0f8ff;border: 1px dotted black;border-radius: 0.25em;box-sizing: border-box;margin-bottom: 0.5em;}#sk-container-id-1 div.sk-estimator:hover {background-color: #d4ebff;}#sk-container-id-1 div.sk-parallel-item::after {content: \"\";width: 100%;border-bottom: 1px solid gray;flex-grow: 1;}#sk-container-id-1 div.sk-label:hover label.sk-toggleable__label {background-color: #d4ebff;}#sk-container-id-1 div.sk-serial::before {content: \"\";position: absolute;border-left: 1px solid gray;box-sizing: border-box;top: 0;bottom: 0;left: 50%;z-index: 0;}#sk-container-id-1 div.sk-serial {display: flex;flex-direction: column;align-items: center;background-color: white;padding-right: 0.2em;padding-left: 0.2em;position: relative;}#sk-container-id-1 div.sk-item {position: relative;z-index: 1;}#sk-container-id-1 div.sk-parallel {display: flex;align-items: stretch;justify-content: center;background-color: white;position: relative;}#sk-container-id-1 div.sk-item::before, #sk-container-id-1 div.sk-parallel-item::before {content: \"\";position: absolute;border-left: 1px solid gray;box-sizing: border-box;top: 0;bottom: 0;left: 50%;z-index: -1;}#sk-container-id-1 div.sk-parallel-item {display: flex;flex-direction: column;z-index: 1;position: relative;background-color: white;}#sk-container-id-1 div.sk-parallel-item:first-child::after {align-self: flex-end;width: 50%;}#sk-container-id-1 div.sk-parallel-item:last-child::after {align-self: flex-start;width: 50%;}#sk-container-id-1 div.sk-parallel-item:only-child::after {width: 0;}#sk-container-id-1 div.sk-dashed-wrapped {border: 1px dashed gray;margin: 0 0.4em 0.5em 0.4em;box-sizing: border-box;padding-bottom: 0.4em;background-color: white;}#sk-container-id-1 div.sk-label label {font-family: monospace;font-weight: bold;display: inline-block;line-height: 1.2em;}#sk-container-id-1 div.sk-label-container {text-align: center;}#sk-container-id-1 div.sk-container {/* jupyter's `normalize.less` sets `[hidden] { display: none; }` but bootstrap.min.css set `[hidden] { display: none !important; }` so we also need the `!important` here to be able to override the default hidden behavior on the sphinx rendered scikit-learn.org. See: https://github.com/scikit-learn/scikit-learn/issues/21755 */display: inline-block !important;position: relative;}#sk-container-id-1 div.sk-text-repr-fallback {display: none;}</style><div id=\"sk-container-id-1\" class=\"sk-top-container\"><div class=\"sk-text-repr-fallback\"><pre>GridSearchCV(cv=StratifiedKFold(n_splits=5, random_state=None, shuffle=True),\n",
              "             estimator=RandomForestClassifier(random_state=101), n_jobs=-1,\n",
              "             param_grid={&#x27;max_depth&#x27;: [5, 10, 15], &#x27;max_features&#x27;: [5, 6, 7],\n",
              "                         &#x27;n_estimators&#x27;: [80, 100, 120]},\n",
              "             scoring=&#x27;recall&#x27;)</pre><b>In a Jupyter environment, please rerun this cell to show the HTML representation or trust the notebook. <br />On GitHub, the HTML representation is unable to render, please try loading this page with nbviewer.org.</b></div><div class=\"sk-container\" hidden><div class=\"sk-item sk-dashed-wrapped\"><div class=\"sk-label-container\"><div class=\"sk-label sk-toggleable\"><input class=\"sk-toggleable__control sk-hidden--visually\" id=\"sk-estimator-id-1\" type=\"checkbox\" ><label for=\"sk-estimator-id-1\" class=\"sk-toggleable__label sk-toggleable__label-arrow\">GridSearchCV</label><div class=\"sk-toggleable__content\"><pre>GridSearchCV(cv=StratifiedKFold(n_splits=5, random_state=None, shuffle=True),\n",
              "             estimator=RandomForestClassifier(random_state=101), n_jobs=-1,\n",
              "             param_grid={&#x27;max_depth&#x27;: [5, 10, 15], &#x27;max_features&#x27;: [5, 6, 7],\n",
              "                         &#x27;n_estimators&#x27;: [80, 100, 120]},\n",
              "             scoring=&#x27;recall&#x27;)</pre></div></div></div><div class=\"sk-parallel\"><div class=\"sk-parallel-item\"><div class=\"sk-item\"><div class=\"sk-label-container\"><div class=\"sk-label sk-toggleable\"><input class=\"sk-toggleable__control sk-hidden--visually\" id=\"sk-estimator-id-2\" type=\"checkbox\" ><label for=\"sk-estimator-id-2\" class=\"sk-toggleable__label sk-toggleable__label-arrow\">estimator: RandomForestClassifier</label><div class=\"sk-toggleable__content\"><pre>RandomForestClassifier(random_state=101)</pre></div></div></div><div class=\"sk-serial\"><div class=\"sk-item\"><div class=\"sk-estimator sk-toggleable\"><input class=\"sk-toggleable__control sk-hidden--visually\" id=\"sk-estimator-id-3\" type=\"checkbox\" ><label for=\"sk-estimator-id-3\" class=\"sk-toggleable__label sk-toggleable__label-arrow\">RandomForestClassifier</label><div class=\"sk-toggleable__content\"><pre>RandomForestClassifier(random_state=101)</pre></div></div></div></div></div></div></div></div></div></div>"
            ]
          },
          "metadata": {},
          "execution_count": 91
        }
      ]
    },
    {
      "cell_type": "code",
      "source": [
        "clf.best_estimator_"
      ],
      "metadata": {
        "colab": {
          "base_uri": "https://localhost:8080/",
          "height": 75
        },
        "id": "tGadtu-JBfHH",
        "outputId": "47cee4e2-b52d-4a13-de2f-9aa6bfd0b1c9"
      },
      "id": "tGadtu-JBfHH",
      "execution_count": null,
      "outputs": [
        {
          "output_type": "execute_result",
          "data": {
            "text/plain": [
              "RandomForestClassifier(max_depth=15, max_features=7, random_state=101)"
            ],
            "text/html": [
              "<style>#sk-container-id-2 {color: black;background-color: white;}#sk-container-id-2 pre{padding: 0;}#sk-container-id-2 div.sk-toggleable {background-color: white;}#sk-container-id-2 label.sk-toggleable__label {cursor: pointer;display: block;width: 100%;margin-bottom: 0;padding: 0.3em;box-sizing: border-box;text-align: center;}#sk-container-id-2 label.sk-toggleable__label-arrow:before {content: \"▸\";float: left;margin-right: 0.25em;color: #696969;}#sk-container-id-2 label.sk-toggleable__label-arrow:hover:before {color: black;}#sk-container-id-2 div.sk-estimator:hover label.sk-toggleable__label-arrow:before {color: black;}#sk-container-id-2 div.sk-toggleable__content {max-height: 0;max-width: 0;overflow: hidden;text-align: left;background-color: #f0f8ff;}#sk-container-id-2 div.sk-toggleable__content pre {margin: 0.2em;color: black;border-radius: 0.25em;background-color: #f0f8ff;}#sk-container-id-2 input.sk-toggleable__control:checked~div.sk-toggleable__content {max-height: 200px;max-width: 100%;overflow: auto;}#sk-container-id-2 input.sk-toggleable__control:checked~label.sk-toggleable__label-arrow:before {content: \"▾\";}#sk-container-id-2 div.sk-estimator input.sk-toggleable__control:checked~label.sk-toggleable__label {background-color: #d4ebff;}#sk-container-id-2 div.sk-label input.sk-toggleable__control:checked~label.sk-toggleable__label {background-color: #d4ebff;}#sk-container-id-2 input.sk-hidden--visually {border: 0;clip: rect(1px 1px 1px 1px);clip: rect(1px, 1px, 1px, 1px);height: 1px;margin: -1px;overflow: hidden;padding: 0;position: absolute;width: 1px;}#sk-container-id-2 div.sk-estimator {font-family: monospace;background-color: #f0f8ff;border: 1px dotted black;border-radius: 0.25em;box-sizing: border-box;margin-bottom: 0.5em;}#sk-container-id-2 div.sk-estimator:hover {background-color: #d4ebff;}#sk-container-id-2 div.sk-parallel-item::after {content: \"\";width: 100%;border-bottom: 1px solid gray;flex-grow: 1;}#sk-container-id-2 div.sk-label:hover label.sk-toggleable__label {background-color: #d4ebff;}#sk-container-id-2 div.sk-serial::before {content: \"\";position: absolute;border-left: 1px solid gray;box-sizing: border-box;top: 0;bottom: 0;left: 50%;z-index: 0;}#sk-container-id-2 div.sk-serial {display: flex;flex-direction: column;align-items: center;background-color: white;padding-right: 0.2em;padding-left: 0.2em;position: relative;}#sk-container-id-2 div.sk-item {position: relative;z-index: 1;}#sk-container-id-2 div.sk-parallel {display: flex;align-items: stretch;justify-content: center;background-color: white;position: relative;}#sk-container-id-2 div.sk-item::before, #sk-container-id-2 div.sk-parallel-item::before {content: \"\";position: absolute;border-left: 1px solid gray;box-sizing: border-box;top: 0;bottom: 0;left: 50%;z-index: -1;}#sk-container-id-2 div.sk-parallel-item {display: flex;flex-direction: column;z-index: 1;position: relative;background-color: white;}#sk-container-id-2 div.sk-parallel-item:first-child::after {align-self: flex-end;width: 50%;}#sk-container-id-2 div.sk-parallel-item:last-child::after {align-self: flex-start;width: 50%;}#sk-container-id-2 div.sk-parallel-item:only-child::after {width: 0;}#sk-container-id-2 div.sk-dashed-wrapped {border: 1px dashed gray;margin: 0 0.4em 0.5em 0.4em;box-sizing: border-box;padding-bottom: 0.4em;background-color: white;}#sk-container-id-2 div.sk-label label {font-family: monospace;font-weight: bold;display: inline-block;line-height: 1.2em;}#sk-container-id-2 div.sk-label-container {text-align: center;}#sk-container-id-2 div.sk-container {/* jupyter's `normalize.less` sets `[hidden] { display: none; }` but bootstrap.min.css set `[hidden] { display: none !important; }` so we also need the `!important` here to be able to override the default hidden behavior on the sphinx rendered scikit-learn.org. See: https://github.com/scikit-learn/scikit-learn/issues/21755 */display: inline-block !important;position: relative;}#sk-container-id-2 div.sk-text-repr-fallback {display: none;}</style><div id=\"sk-container-id-2\" class=\"sk-top-container\"><div class=\"sk-text-repr-fallback\"><pre>RandomForestClassifier(max_depth=15, max_features=7, random_state=101)</pre><b>In a Jupyter environment, please rerun this cell to show the HTML representation or trust the notebook. <br />On GitHub, the HTML representation is unable to render, please try loading this page with nbviewer.org.</b></div><div class=\"sk-container\" hidden><div class=\"sk-item\"><div class=\"sk-estimator sk-toggleable\"><input class=\"sk-toggleable__control sk-hidden--visually\" id=\"sk-estimator-id-4\" type=\"checkbox\" checked><label for=\"sk-estimator-id-4\" class=\"sk-toggleable__label sk-toggleable__label-arrow\">RandomForestClassifier</label><div class=\"sk-toggleable__content\"><pre>RandomForestClassifier(max_depth=15, max_features=7, random_state=101)</pre></div></div></div></div></div>"
            ]
          },
          "metadata": {},
          "execution_count": 92
        }
      ]
    },
    {
      "cell_type": "code",
      "source": [
        "clf.best_score_"
      ],
      "metadata": {
        "colab": {
          "base_uri": "https://localhost:8080/"
        },
        "id": "AvbfMZvvBghd",
        "outputId": "71ca25e4-6165-4608-d520-94c10dd9382d"
      },
      "id": "AvbfMZvvBghd",
      "execution_count": null,
      "outputs": [
        {
          "output_type": "execute_result",
          "data": {
            "text/plain": [
              "0.7000954753009547"
            ]
          },
          "metadata": {},
          "execution_count": 93
        }
      ]
    },
    {
      "cell_type": "code",
      "source": [
        "clf.best_params_"
      ],
      "metadata": {
        "colab": {
          "base_uri": "https://localhost:8080/"
        },
        "id": "iJXOvNFoBh_5",
        "outputId": "3944d86f-f7de-4a3d-9dbb-0820560eaf8b"
      },
      "id": "iJXOvNFoBh_5",
      "execution_count": null,
      "outputs": [
        {
          "output_type": "execute_result",
          "data": {
            "text/plain": [
              "{'max_depth': 15, 'max_features': 7, 'n_estimators': 100}"
            ]
          },
          "metadata": {},
          "execution_count": 94
        }
      ]
    },
    {
      "cell_type": "code",
      "source": [
        "scores = clf.cv_results_['mean_test_score']\n",
        "scores_std = clf.cv_results_['std_test_score']\n",
        "# plot error lines showing +/- std. errors of the scores\n",
        "std_error = scores_std / np.sqrt(5)"
      ],
      "metadata": {
        "id": "wod8nfAcBm5R"
      },
      "id": "wod8nfAcBm5R",
      "execution_count": null,
      "outputs": []
    },
    {
      "cell_type": "code",
      "source": [
        "plt.figure( figsize = (10, 5) )\n",
        "plt.plot(scores)\n",
        "plt.plot(scores + std_error, 'b--')\n",
        "plt.plot(scores - std_error, 'b--')\n",
        "# alpha=0.2 controls the translucency of the fill color\n",
        "plt.fill_between(range(0,27), scores + std_error, scores - std_error, alpha = 0.2)\n",
        "\n",
        "plt.ylabel('CV score +/- std error')\n",
        "plt.xlabel('Test')\n",
        "plt.axhline(np.max(scores), linestyle='--', color='.5')"
      ],
      "metadata": {
        "colab": {
          "base_uri": "https://localhost:8080/",
          "height": 482
        },
        "id": "VCYkHjj0Bnel",
        "outputId": "93c63baf-fc79-43ed-c348-83a514cac504"
      },
      "id": "VCYkHjj0Bnel",
      "execution_count": null,
      "outputs": [
        {
          "output_type": "execute_result",
          "data": {
            "text/plain": [
              "<matplotlib.lines.Line2D at 0x7f7c27dfcd60>"
            ]
          },
          "metadata": {},
          "execution_count": 96
        },
        {
          "output_type": "display_data",
          "data": {
            "text/plain": [
              "<Figure size 1000x500 with 1 Axes>"
            ],
            "image/png": "[encoded data removed]"
          },
          "metadata": {}
        }
      ]
    },
    {
      "cell_type": "markdown",
      "source": [
        "**Feature importance analysis**"
      ],
      "metadata": {
        "id": "sgG9WBS-CvEY"
      },
      "id": "sgG9WBS-CvEY"
    },
    {
      "cell_type": "code",
      "source": [
        "var_importance = pd.Series(clf.best_estimator_.feature_importances_)\n",
        "var_importance.index = X_train.columns\n",
        "plt.figure( figsize = (10, 5) )\n",
        "var_importance.sort_values(ascending = False).plot.bar()"
      ],
      "metadata": {
        "colab": {
          "base_uri": "https://localhost:8080/",
          "height": 647
        },
        "id": "DkofonjnBs6n",
        "outputId": "c903e181-d99b-4c58-9817-f2af765020b0"
      },
      "id": "DkofonjnBs6n",
      "execution_count": null,
      "outputs": [
        {
          "output_type": "execute_result",
          "data": {
            "text/plain": [
              "<Axes: >"
            ]
          },
          "metadata": {},
          "execution_count": 97
        },
        {
          "output_type": "display_data",
          "data": {
            "text/plain": [
              "<Figure size 1000x500 with 1 Axes>"
            ],
            "image/png": "[encoded data removed]"
          },
          "metadata": {}
        }
      ]
    },
    {
      "cell_type": "markdown",
      "source": [
        "**Findings:**\n",
        "\n",
        "Important features are: **Age, Creatinine, Glycohemoglobin, Cholesterol, Platelet-count, Uric.Acid, Glucose\n",
        "**"
      ],
      "metadata": {
        "id": "EHfdh7uqC5CZ"
      },
      "id": "EHfdh7uqC5CZ"
    },
    {
      "cell_type": "markdown",
      "source": [
        "# Lọc Data\n"
      ],
      "metadata": {
        "id": "Y2YXqUMKKPYa"
      },
      "id": "Y2YXqUMKKPYa"
    },
    {
      "cell_type": "code",
      "source": [
        "columns_to_keep = ['Age', 'Creatinine', 'Glycohemoglobin', 'Cholesterol', 'Platelet-count', 'Uric.Acid','Glucose', 'CoronaryHeartDisease']\n",
        "\n",
        "# Tạo DataFrame mới chỉ chứa các cột cần giữ lại\n",
        "new_df = data[columns_to_keep]\n",
        "\n",
        "# Lưu dữ liệu vào file mới (nếu cần)\n",
        "new_df.to_csv('/content/data_with_importantFeature.csv', index=False)"
      ],
      "metadata": {
        "id": "IA0HdNrlKUWW"
      },
      "id": "IA0HdNrlKUWW",
      "execution_count": null,
      "outputs": []
    },
    {
      "cell_type": "code",
      "source": [
        "data_new = pd.read_csv('/content/data_with_importantFeature.csv')\n"
      ],
      "metadata": {
        "id": "M5KwfYQ0KUTs"
      },
      "id": "M5KwfYQ0KUTs",
      "execution_count": null,
      "outputs": []
    },
    {
      "cell_type": "code",
      "source": [
        "data_new_shuffled = data_new.sample(frac=1, random_state=42).reset_index(drop=True)"
      ],
      "metadata": {
        "id": "2ZWbyl6AKSga"
      },
      "id": "2ZWbyl6AKSga",
      "execution_count": null,
      "outputs": []
    },
    {
      "cell_type": "code",
      "source": [
        "data_new_shuffled.head(20)"
      ],
      "metadata": {
        "colab": {
          "base_uri": "https://localhost:8080/",
          "height": 677
        },
        "id": "AGh8d8uUKUcC",
        "outputId": "35691788-26f8-44aa-fd6b-0cd91084415d"
      },
      "id": "AGh8d8uUKUcC",
      "execution_count": null,
      "outputs": [
        {
          "output_type": "execute_result",
          "data": {
            "text/plain": [
              "     Age  Creatinine  Glycohemoglobin  Cholesterol  Platelet-count  Uric.Acid  \\\n",
              "0   67.0      107.85              7.4        3.258           213.0      356.9   \n",
              "1   35.0       97.24              5.0        5.663           225.0      428.3   \n",
              "2   81.0       88.40              5.8        5.970           204.0      267.7   \n",
              "3   72.0       96.36              5.5        3.595           314.0      505.6   \n",
              "4   38.0       81.33              5.3        4.344           199.0      392.6   \n",
              "5   30.0       44.20              5.0        6.181           283.0      214.1   \n",
              "6   63.0       70.72              5.7        5.172           239.0      368.8   \n",
              "7   58.0       73.37              5.6        5.586           187.0      237.9   \n",
              "8   31.0       88.40              5.1        4.577           210.0      386.6   \n",
              "9   41.0       63.65              5.4        4.888           183.0      303.3   \n",
              "10  65.0       70.72              5.1        4.940           132.0      226.0   \n",
              "11  82.0       61.90              5.7        5.330           289.0      315.2   \n",
              "12  21.0       44.20              4.9        3.930           250.0      243.9   \n",
              "13  44.0       70.72              5.4        4.138           217.0      285.5   \n",
              "14  25.0       70.70              5.1        6.260           187.0      350.9   \n",
              "15  50.0       79.56              6.2        6.155           278.0      333.1   \n",
              "16  21.0       61.88              5.1        3.569           188.0      178.4   \n",
              "17  73.0       83.98              5.2        2.819            60.0      279.6   \n",
              "18  58.0       61.88              6.4        7.400           345.0      356.9   \n",
              "19  75.0       60.11              5.4        4.086           135.0      487.7   \n",
              "\n",
              "    Glucose  CoronaryHeartDisease  \n",
              "0    12.100                   1.0  \n",
              "1     5.000                   0.0  \n",
              "2     5.107                   0.0  \n",
              "3     4.390                   1.0  \n",
              "4     6.050                   0.0  \n",
              "5     3.720                   0.0  \n",
              "6     5.160                   0.0  \n",
              "7     5.050                   1.0  \n",
              "8     5.110                   0.0  \n",
              "9     4.160                   0.0  \n",
              "10    4.718                   1.0  \n",
              "11    5.607                   0.0  \n",
              "12    4.441                   0.0  \n",
              "13    4.830                   0.0  \n",
              "14    5.051                   0.0  \n",
              "15    5.550                   0.0  \n",
              "16    4.270                   0.0  \n",
              "17    4.770                   0.0  \n",
              "18    5.718                   0.0  \n",
              "19    4.770                   1.0  "
            ],
            "text/html": [
              "\n",
              "  <div id=\"df-c23cc8d9-84cd-4a62-9715-1dc8c01239f2\" class=\"colab-df-container\">\n",
              "    <div>\n",
              "<style scoped>\n",
              "    .dataframe tbody tr th:only-of-type {\n",
              "        vertical-align: middle;\n",
              "    }\n",
              "\n",
              "    .dataframe tbody tr th {\n",
              "        vertical-align: top;\n",
              "    }\n",
              "\n",
              "    .dataframe thead th {\n",
              "        text-align: right;\n",
              "    }\n",
              "</style>\n",
              "<table border=\"1\" class=\"dataframe\">\n",
              "  <thead>\n",
              "    <tr style=\"text-align: right;\">\n",
              "      <th></th>\n",
              "      <th>Age</th>\n",
              "      <th>Creatinine</th>\n",
              "      <th>Glycohemoglobin</th>\n",
              "      <th>Cholesterol</th>\n",
              "      <th>Platelet-count</th>\n",
              "      <th>Uric.Acid</th>\n",
              "      <th>Glucose</th>\n",
              "      <th>CoronaryHeartDisease</th>\n",
              "    </tr>\n",
              "  </thead>\n",
              "  <tbody>\n",
              "    <tr>\n",
              "      <th>0</th>\n",
              "      <td>67.0</td>\n",
              "      <td>107.85</td>\n",
              "      <td>7.4</td>\n",
              "      <td>3.258</td>\n",
              "      <td>213.0</td>\n",
              "      <td>356.9</td>\n",
              "      <td>12.100</td>\n",
              "      <td>1.0</td>\n",
              "    </tr>\n",
              "    <tr>\n",
              "      <th>1</th>\n",
              "      <td>35.0</td>\n",
              "      <td>97.24</td>\n",
              "      <td>5.0</td>\n",
              "      <td>5.663</td>\n",
              "      <td>225.0</td>\n",
              "      <td>428.3</td>\n",
              "      <td>5.000</td>\n",
              "      <td>0.0</td>\n",
              "    </tr>\n",
              "    <tr>\n",
              "      <th>2</th>\n",
              "      <td>81.0</td>\n",
              "      <td>88.40</td>\n",
              "      <td>5.8</td>\n",
              "      <td>5.970</td>\n",
              "      <td>204.0</td>\n",
              "      <td>267.7</td>\n",
              "      <td>5.107</td>\n",
              "      <td>0.0</td>\n",
              "    </tr>\n",
              "    <tr>\n",
              "      <th>3</th>\n",
              "      <td>72.0</td>\n",
              "      <td>96.36</td>\n",
              "      <td>5.5</td>\n",
              "      <td>3.595</td>\n",
              "      <td>314.0</td>\n",
              "      <td>505.6</td>\n",
              "      <td>4.390</td>\n",
              "      <td>1.0</td>\n",
              "    </tr>\n",
              "    <tr>\n",
              "      <th>4</th>\n",
              "      <td>38.0</td>\n",
              "      <td>81.33</td>\n",
              "      <td>5.3</td>\n",
              "      <td>4.344</td>\n",
              "      <td>199.0</td>\n",
              "      <td>392.6</td>\n",
              "      <td>6.050</td>\n",
              "      <td>0.0</td>\n",
              "    </tr>\n",
              "    <tr>\n",
              "      <th>5</th>\n",
              "      <td>30.0</td>\n",
              "      <td>44.20</td>\n",
              "      <td>5.0</td>\n",
              "      <td>6.181</td>\n",
              "      <td>283.0</td>\n",
              "      <td>214.1</td>\n",
              "      <td>3.720</td>\n",
              "      <td>0.0</td>\n",
              "    </tr>\n",
              "    <tr>\n",
              "      <th>6</th>\n",
              "      <td>63.0</td>\n",
              "      <td>70.72</td>\n",
              "      <td>5.7</td>\n",
              "      <td>5.172</td>\n",
              "      <td>239.0</td>\n",
              "      <td>368.8</td>\n",
              "      <td>5.160</td>\n",
              "      <td>0.0</td>\n",
              "    </tr>\n",
              "    <tr>\n",
              "      <th>7</th>\n",
              "      <td>58.0</td>\n",
              "      <td>73.37</td>\n",
              "      <td>5.6</td>\n",
              "      <td>5.586</td>\n",
              "      <td>187.0</td>\n",
              "      <td>237.9</td>\n",
              "      <td>5.050</td>\n",
              "      <td>1.0</td>\n",
              "    </tr>\n",
              "    <tr>\n",
              "      <th>8</th>\n",
              "      <td>31.0</td>\n",
              "      <td>88.40</td>\n",
              "      <td>5.1</td>\n",
              "      <td>4.577</td>\n",
              "      <td>210.0</td>\n",
              "      <td>386.6</td>\n",
              "      <td>5.110</td>\n",
              "      <td>0.0</td>\n",
              "    </tr>\n",
              "    <tr>\n",
              "      <th>9</th>\n",
              "      <td>41.0</td>\n",
              "      <td>63.65</td>\n",
              "      <td>5.4</td>\n",
              "      <td>4.888</td>\n",
              "      <td>183.0</td>\n",
              "      <td>303.3</td>\n",
              "      <td>4.160</td>\n",
              "      <td>0.0</td>\n",
              "    </tr>\n",
              "    <tr>\n",
              "      <th>10</th>\n",
              "      <td>65.0</td>\n",
              "      <td>70.72</td>\n",
              "      <td>5.1</td>\n",
              "      <td>4.940</td>\n",
              "      <td>132.0</td>\n",
              "      <td>226.0</td>\n",
              "      <td>4.718</td>\n",
              "      <td>1.0</td>\n",
              "    </tr>\n",
              "    <tr>\n",
              "      <th>11</th>\n",
              "      <td>82.0</td>\n",
              "      <td>61.90</td>\n",
              "      <td>5.7</td>\n",
              "      <td>5.330</td>\n",
              "      <td>289.0</td>\n",
              "      <td>315.2</td>\n",
              "      <td>5.607</td>\n",
              "      <td>0.0</td>\n",
              "    </tr>\n",
              "    <tr>\n",
              "      <th>12</th>\n",
              "      <td>21.0</td>\n",
              "      <td>44.20</td>\n",
              "      <td>4.9</td>\n",
              "      <td>3.930</td>\n",
              "      <td>250.0</td>\n",
              "      <td>243.9</td>\n",
              "      <td>4.441</td>\n",
              "      <td>0.0</td>\n",
              "    </tr>\n",
              "    <tr>\n",
              "      <th>13</th>\n",
              "      <td>44.0</td>\n",
              "      <td>70.72</td>\n",
              "      <td>5.4</td>\n",
              "      <td>4.138</td>\n",
              "      <td>217.0</td>\n",
              "      <td>285.5</td>\n",
              "      <td>4.830</td>\n",
              "      <td>0.0</td>\n",
              "    </tr>\n",
              "    <tr>\n",
              "      <th>14</th>\n",
              "      <td>25.0</td>\n",
              "      <td>70.70</td>\n",
              "      <td>5.1</td>\n",
              "      <td>6.260</td>\n",
              "      <td>187.0</td>\n",
              "      <td>350.9</td>\n",
              "      <td>5.051</td>\n",
              "      <td>0.0</td>\n",
              "    </tr>\n",
              "    <tr>\n",
              "      <th>15</th>\n",
              "      <td>50.0</td>\n",
              "      <td>79.56</td>\n",
              "      <td>6.2</td>\n",
              "      <td>6.155</td>\n",
              "      <td>278.0</td>\n",
              "      <td>333.1</td>\n",
              "      <td>5.550</td>\n",
              "      <td>0.0</td>\n",
              "    </tr>\n",
              "    <tr>\n",
              "      <th>16</th>\n",
              "      <td>21.0</td>\n",
              "      <td>61.88</td>\n",
              "      <td>5.1</td>\n",
              "      <td>3.569</td>\n",
              "      <td>188.0</td>\n",
              "      <td>178.4</td>\n",
              "      <td>4.270</td>\n",
              "      <td>0.0</td>\n",
              "    </tr>\n",
              "    <tr>\n",
              "      <th>17</th>\n",
              "      <td>73.0</td>\n",
              "      <td>83.98</td>\n",
              "      <td>5.2</td>\n",
              "      <td>2.819</td>\n",
              "      <td>60.0</td>\n",
              "      <td>279.6</td>\n",
              "      <td>4.770</td>\n",
              "      <td>0.0</td>\n",
              "    </tr>\n",
              "    <tr>\n",
              "      <th>18</th>\n",
              "      <td>58.0</td>\n",
              "      <td>61.88</td>\n",
              "      <td>6.4</td>\n",
              "      <td>7.400</td>\n",
              "      <td>345.0</td>\n",
              "      <td>356.9</td>\n",
              "      <td>5.718</td>\n",
              "      <td>0.0</td>\n",
              "    </tr>\n",
              "    <tr>\n",
              "      <th>19</th>\n",
              "      <td>75.0</td>\n",
              "      <td>60.11</td>\n",
              "      <td>5.4</td>\n",
              "      <td>4.086</td>\n",
              "      <td>135.0</td>\n",
              "      <td>487.7</td>\n",
              "      <td>4.770</td>\n",
              "      <td>1.0</td>\n",
              "    </tr>\n",
              "  </tbody>\n",
              "</table>\n",
              "</div>\n",
              "    <div class=\"colab-df-buttons\">\n",
              "\n",
              "  <div class=\"colab-df-container\">\n",
              "    <button class=\"colab-df-convert\" onclick=\"convertToInteractive('df-c23cc8d9-84cd-4a62-9715-1dc8c01239f2')\"\n",
              "            title=\"Convert this dataframe to an interactive table.\"\n",
              "            style=\"display:none;\">\n",
              "\n",
              "  <svg xmlns=\"http://www.w3.org/2000/svg\" height=\"24px\" viewBox=\"0 -960 960 960\">\n",
              "    <path d=\"M120-120v-720h720v720H120Zm60-500h600v-160H180v160Zm220 220h160v-160H400v160Zm0 220h160v-160H400v160ZM180-400h160v-160H180v160Zm440 0h160v-160H620v160ZM180-180h160v-160H180v160Zm440 0h160v-160H620v160Z\"/>\n",
              "  </svg>\n",
              "    </button>\n",
              "\n",
              "  <style>\n",
              "    .colab-df-container {\n",
              "      display:flex;\n",
              "      gap: 12px;\n",
              "    }\n",
              "\n",
              "    .colab-df-convert {\n",
              "      background-color: #E8F0FE;\n",
              "      border: none;\n",
              "      border-radius: 50%;\n",
              "      cursor: pointer;\n",
              "      display: none;\n",
              "      fill: #1967D2;\n",
              "      height: 32px;\n",
              "      padding: 0 0 0 0;\n",
              "      width: 32px;\n",
              "    }\n",
              "\n",
              "    .colab-df-convert:hover {\n",
              "      background-color: #E2EBFA;\n",
              "      box-shadow: 0px 1px 2px rgba(60, 64, 67, 0.3), 0px 1px 3px 1px rgba(60, 64, 67, 0.15);\n",
              "      fill: #174EA6;\n",
              "    }\n",
              "\n",
              "    .colab-df-buttons div {\n",
              "      margin-bottom: 4px;\n",
              "    }\n",
              "\n",
              "    [theme=dark] .colab-df-convert {\n",
              "      background-color: #3B4455;\n",
              "      fill: #D2E3FC;\n",
              "    }\n",
              "\n",
              "    [theme=dark] .colab-df-convert:hover {\n",
              "      background-color: #434B5C;\n",
              "      box-shadow: 0px 1px 3px 1px rgba(0, 0, 0, 0.15);\n",
              "      filter: drop-shadow(0px 1px 2px rgba(0, 0, 0, 0.3));\n",
              "      fill: #FFFFFF;\n",
              "    }\n",
              "  </style>\n",
              "\n",
              "    <script>\n",
              "      const buttonEl =\n",
              "        document.querySelector('#df-c23cc8d9-84cd-4a62-9715-1dc8c01239f2 button.colab-df-convert');\n",
              "      buttonEl.style.display =\n",
              "        google.colab.kernel.accessAllowed ? 'block' : 'none';\n",
              "\n",
              "      async function convertToInteractive(key) {\n",
              "        const element = document.querySelector('#df-c23cc8d9-84cd-4a62-9715-1dc8c01239f2');\n",
              "        const dataTable =\n",
              "          await google.colab.kernel.invokeFunction('convertToInteractive',\n",
              "                                                    [key], {});\n",
              "        if (!dataTable) return;\n",
              "\n",
              "        const docLinkHtml = 'Like what you see? Visit the ' +\n",
              "          '<a target=\"_blank\" href=https://colab.research.google.com/notebooks/data_table.ipynb>data table notebook</a>'\n",
              "          + ' to learn more about interactive tables.';\n",
              "        element.innerHTML = '';\n",
              "        dataTable['output_type'] = 'display_data';\n",
              "        await google.colab.output.renderOutput(dataTable, element);\n",
              "        const docLink = document.createElement('div');\n",
              "        docLink.innerHTML = docLinkHtml;\n",
              "        element.appendChild(docLink);\n",
              "      }\n",
              "    </script>\n",
              "  </div>\n",
              "\n",
              "\n",
              "<div id=\"df-8148c6c0-16b9-46a5-99a6-6693dc830f9f\">\n",
              "  <button class=\"colab-df-quickchart\" onclick=\"quickchart('df-8148c6c0-16b9-46a5-99a6-6693dc830f9f')\"\n",
              "            title=\"Suggest charts.\"\n",
              "            style=\"display:none;\">\n",
              "\n",
              "<svg xmlns=\"http://www.w3.org/2000/svg\" height=\"24px\"viewBox=\"0 0 24 24\"\n",
              "     width=\"24px\">\n",
              "    <g>\n",
              "        <path d=\"M19 3H5c-1.1 0-2 .9-2 2v14c0 1.1.9 2 2 2h14c1.1 0 2-.9 2-2V5c0-1.1-.9-2-2-2zM9 17H7v-7h2v7zm4 0h-2V7h2v10zm4 0h-2v-4h2v4z\"/>\n",
              "    </g>\n",
              "</svg>\n",
              "  </button>\n",
              "\n",
              "<style>\n",
              "  .colab-df-quickchart {\n",
              "      --bg-color: #E8F0FE;\n",
              "      --fill-color: #1967D2;\n",
              "      --hover-bg-color: #E2EBFA;\n",
              "      --hover-fill-color: #174EA6;\n",
              "      --disabled-fill-color: #AAA;\n",
              "      --disabled-bg-color: #DDD;\n",
              "  }\n",
              "\n",
              "  [theme=dark] .colab-df-quickchart {\n",
              "      --bg-color: #3B4455;\n",
              "      --fill-color: #D2E3FC;\n",
              "      --hover-bg-color: #434B5C;\n",
              "      --hover-fill-color: #FFFFFF;\n",
              "      --disabled-bg-color: #3B4455;\n",
              "      --disabled-fill-color: #666;\n",
              "  }\n",
              "\n",
              "  .colab-df-quickchart {\n",
              "    background-color: var(--bg-color);\n",
              "    border: none;\n",
              "    border-radius: 50%;\n",
              "    cursor: pointer;\n",
              "    display: none;\n",
              "    fill: var(--fill-color);\n",
              "    height: 32px;\n",
              "    padding: 0;\n",
              "    width: 32px;\n",
              "  }\n",
              "\n",
              "  .colab-df-quickchart:hover {\n",
              "    background-color: var(--hover-bg-color);\n",
              "    box-shadow: 0 1px 2px rgba(60, 64, 67, 0.3), 0 1px 3px 1px rgba(60, 64, 67, 0.15);\n",
              "    fill: var(--button-hover-fill-color);\n",
              "  }\n",
              "\n",
              "  .colab-df-quickchart-complete:disabled,\n",
              "  .colab-df-quickchart-complete:disabled:hover {\n",
              "    background-color: var(--disabled-bg-color);\n",
              "    fill: var(--disabled-fill-color);\n",
              "    box-shadow: none;\n",
              "  }\n",
              "\n",
              "  .colab-df-spinner {\n",
              "    border: 2px solid var(--fill-color);\n",
              "    border-color: transparent;\n",
              "    border-bottom-color: var(--fill-color);\n",
              "    animation:\n",
              "      spin 1s steps(1) infinite;\n",
              "  }\n",
              "\n",
              "  @keyframes spin {\n",
              "    0% {\n",
              "      border-color: transparent;\n",
              "      border-bottom-color: var(--fill-color);\n",
              "      border-left-color: var(--fill-color);\n",
              "    }\n",
              "    20% {\n",
              "      border-color: transparent;\n",
              "      border-left-color: var(--fill-color);\n",
              "      border-top-color: var(--fill-color);\n",
              "    }\n",
              "    30% {\n",
              "      border-color: transparent;\n",
              "      border-left-color: var(--fill-color);\n",
              "      border-top-color: var(--fill-color);\n",
              "      border-right-color: var(--fill-color);\n",
              "    }\n",
              "    40% {\n",
              "      border-color: transparent;\n",
              "      border-right-color: var(--fill-color);\n",
              "      border-top-color: var(--fill-color);\n",
              "    }\n",
              "    60% {\n",
              "      border-color: transparent;\n",
              "      border-right-color: var(--fill-color);\n",
              "    }\n",
              "    80% {\n",
              "      border-color: transparent;\n",
              "      border-right-color: var(--fill-color);\n",
              "      border-bottom-color: var(--fill-color);\n",
              "    }\n",
              "    90% {\n",
              "      border-color: transparent;\n",
              "      border-bottom-color: var(--fill-color);\n",
              "    }\n",
              "  }\n",
              "</style>\n",
              "\n",
              "  <script>\n",
              "    async function quickchart(key) {\n",
              "      const quickchartButtonEl =\n",
              "        document.querySelector('#' + key + ' button');\n",
              "      quickchartButtonEl.disabled = true;  // To prevent multiple clicks.\n",
              "      quickchartButtonEl.classList.add('colab-df-spinner');\n",
              "      try {\n",
              "        const charts = await google.colab.kernel.invokeFunction(\n",
              "            'suggestCharts', [key], {});\n",
              "      } catch (error) {\n",
              "        console.error('Error during call to suggestCharts:', error);\n",
              "      }\n",
              "      quickchartButtonEl.classList.remove('colab-df-spinner');\n",
              "      quickchartButtonEl.classList.add('colab-df-quickchart-complete');\n",
              "    }\n",
              "    (() => {\n",
              "      let quickchartButtonEl =\n",
              "        document.querySelector('#df-8148c6c0-16b9-46a5-99a6-6693dc830f9f button');\n",
              "      quickchartButtonEl.style.display =\n",
              "        google.colab.kernel.accessAllowed ? 'block' : 'none';\n",
              "    })();\n",
              "  </script>\n",
              "</div>\n",
              "    </div>\n",
              "  </div>\n"
            ]
          },
          "metadata": {},
          "execution_count": 18
        }
      ]
    },
    {
      "cell_type": "code",
      "source": [
        "data_new_shuffled.info()"
      ],
      "metadata": {
        "id": "G3xdUq98KURJ",
        "colab": {
          "base_uri": "https://localhost:8080/"
        },
        "outputId": "db67ae80-d9e6-4e89-c171-b7f0d941e652"
      },
      "id": "G3xdUq98KURJ",
      "execution_count": null,
      "outputs": [
        {
          "output_type": "stream",
          "name": "stdout",
          "text": [
            "<class 'pandas.core.frame.DataFrame'>\n",
            "RangeIndex: 3608 entries, 0 to 3607\n",
            "Data columns (total 8 columns):\n",
            " #   Column                Non-Null Count  Dtype  \n",
            "---  ------                --------------  -----  \n",
            " 0   Age                   3608 non-null   float64\n",
            " 1   Creatinine            3608 non-null   float64\n",
            " 2   Glycohemoglobin       3608 non-null   float64\n",
            " 3   Cholesterol           3608 non-null   float64\n",
            " 4   Platelet-count        3608 non-null   float64\n",
            " 5   Uric.Acid             3608 non-null   float64\n",
            " 6   Glucose               3608 non-null   float64\n",
            " 7   CoronaryHeartDisease  3608 non-null   float64\n",
            "dtypes: float64(8)\n",
            "memory usage: 225.6 KB\n"
          ]
        }
      ]
    },
    {
      "cell_type": "code",
      "source": [
        "# visualization\n",
        "corr_matrix = data_new_shuffled.corr()\n",
        "\n",
        "plt.figure(figsize=(12, 8))\n",
        "sns.heatmap(corr_matrix, annot=True, linewidth=0.5, fmt='.2f', cmap='viridis_r');"
      ],
      "metadata": {
        "colab": {
          "base_uri": "https://localhost:8080/",
          "height": 825
        },
        "id": "3WFCWX-CJhdL",
        "outputId": "343d027a-6b6f-4def-df89-0ae09c3ec5d7"
      },
      "id": "3WFCWX-CJhdL",
      "execution_count": null,
      "outputs": [
        {
          "output_type": "display_data",
          "data": {
            "text/plain": [
              "<Figure size 1200x800 with 2 Axes>"
            ],
            "image/png": "[encoded data removed]"
          },
          "metadata": {}
        }
      ]
    },
    {
      "cell_type": "markdown",
      "id": "b9550bac",
      "metadata": {
        "id": "b9550bac"
      },
      "source": [
        "# Model Training"
      ]
    },
    {
      "cell_type": "code",
      "source": [
        "X = data_new_shuffled.drop('CoronaryHeartDisease', axis=1)\n",
        "y = data_new_shuffled['CoronaryHeartDisease']"
      ],
      "metadata": {
        "id": "5jVSk1C-LeSX"
      },
      "id": "5jVSk1C-LeSX",
      "execution_count": null,
      "outputs": []
    },
    {
      "cell_type": "code",
      "source": [
        "X_train, X_test, y_train, y_test = train_test_split(X, y, test_size=0.2, random_state=42)"
      ],
      "metadata": {
        "id": "n57Un95rLeoS"
      },
      "id": "n57Un95rLeoS",
      "execution_count": null,
      "outputs": []
    },
    {
      "cell_type": "code",
      "execution_count": null,
      "id": "5f090a6a",
      "metadata": {
        "id": "5f090a6a"
      },
      "outputs": [],
      "source": [
        "# put models in dictionary\n",
        "\n",
        "models = {\n",
        "    'LogisticRegression': LogisticRegression(max_iter=1000),\n",
        "    'KNN': KNeighborsClassifier(),\n",
        "    'RandomForestClassifer': RandomForestClassifier()\n",
        "}\n",
        "\n",
        "# create function to fit and score model\n",
        "def fit_and_score(models, X_train, X_test, y_train, y_test):\n",
        "    \"\"\"\n",
        "    Fits and evalute given machine learning models.\n",
        "    models: a dictionary of different scikit learn machine learning models\n",
        "    X_train: training date (no labels)\n",
        "    X_test: testing data (no labels)\n",
        "    y_train: training labels\n",
        "    y_test : testing labels\n",
        "    returns model scores dictionary.\n",
        "    \"\"\"\n",
        "\n",
        "    # set random seed\n",
        "    np.random.seed(42)\n",
        "\n",
        "    # make dictonary to keep scores\n",
        "    model_scores = {}\n",
        "\n",
        "    # loop through models to fit and score\n",
        "    for model_name, model in models.items():\n",
        "        model.fit(X_train, y_train) # fit model\n",
        "        score = model.score(X_test, y_test) # get score\n",
        "        model_scores[model_name] = score # put score for each model\n",
        "\n",
        "    return model_scores"
      ]
    },
    {
      "cell_type": "code",
      "execution_count": null,
      "id": "64d7fead",
      "metadata": {
        "colab": {
          "base_uri": "https://localhost:8080/"
        },
        "id": "64d7fead",
        "outputId": "cc822fac-13ff-41a2-aad7-a8f07fcb7596"
      },
      "outputs": [
        {
          "output_type": "execute_result",
          "data": {
            "text/plain": [
              "{'LogisticRegression': 0.7950138504155124,\n",
              " 'KNN': 0.7576177285318559,\n",
              " 'RandomForestClassifer': 0.7839335180055401}"
            ]
          },
          "metadata": {},
          "execution_count": 29
        }
      ],
      "source": [
        "# fit and score\n",
        "model_scores = fit_and_score(models, X_train, X_test, y_train, y_test)\n",
        "\n",
        "model_scores"
      ]
    },
    {
      "cell_type": "code",
      "execution_count": null,
      "id": "0575f20c",
      "metadata": {
        "colab": {
          "base_uri": "https://localhost:8080/",
          "height": 81
        },
        "id": "0575f20c",
        "outputId": "d3cec658-488a-4231-da71-b09519df14a8"
      },
      "outputs": [
        {
          "output_type": "execute_result",
          "data": {
            "text/plain": [
              "          LogisticRegression       KNN  RandomForestClassifer\n",
              "accuracy            0.795014  0.757618               0.783934"
            ],
            "text/html": [
              "\n",
              "  <div id=\"df-e47f38bc-3a17-40be-9925-74f7421057ec\" class=\"colab-df-container\">\n",
              "    <div>\n",
              "<style scoped>\n",
              "    .dataframe tbody tr th:only-of-type {\n",
              "        vertical-align: middle;\n",
              "    }\n",
              "\n",
              "    .dataframe tbody tr th {\n",
              "        vertical-align: top;\n",
              "    }\n",
              "\n",
              "    .dataframe thead th {\n",
              "        text-align: right;\n",
              "    }\n",
              "</style>\n",
              "<table border=\"1\" class=\"dataframe\">\n",
              "  <thead>\n",
              "    <tr style=\"text-align: right;\">\n",
              "      <th></th>\n",
              "      <th>LogisticRegression</th>\n",
              "      <th>KNN</th>\n",
              "      <th>RandomForestClassifer</th>\n",
              "    </tr>\n",
              "  </thead>\n",
              "  <tbody>\n",
              "    <tr>\n",
              "      <th>accuracy</th>\n",
              "      <td>0.795014</td>\n",
              "      <td>0.757618</td>\n",
              "      <td>0.783934</td>\n",
              "    </tr>\n",
              "  </tbody>\n",
              "</table>\n",
              "</div>\n",
              "    <div class=\"colab-df-buttons\">\n",
              "\n",
              "  <div class=\"colab-df-container\">\n",
              "    <button class=\"colab-df-convert\" onclick=\"convertToInteractive('df-e47f38bc-3a17-40be-9925-74f7421057ec')\"\n",
              "            title=\"Convert this dataframe to an interactive table.\"\n",
              "            style=\"display:none;\">\n",
              "\n",
              "  <svg xmlns=\"http://www.w3.org/2000/svg\" height=\"24px\" viewBox=\"0 -960 960 960\">\n",
              "    <path d=\"M120-120v-720h720v720H120Zm60-500h600v-160H180v160Zm220 220h160v-160H400v160Zm0 220h160v-160H400v160ZM180-400h160v-160H180v160Zm440 0h160v-160H620v160ZM180-180h160v-160H180v160Zm440 0h160v-160H620v160Z\"/>\n",
              "  </svg>\n",
              "    </button>\n",
              "\n",
              "  <style>\n",
              "    .colab-df-container {\n",
              "      display:flex;\n",
              "      gap: 12px;\n",
              "    }\n",
              "\n",
              "    .colab-df-convert {\n",
              "      background-color: #E8F0FE;\n",
              "      border: none;\n",
              "      border-radius: 50%;\n",
              "      cursor: pointer;\n",
              "      display: none;\n",
              "      fill: #1967D2;\n",
              "      height: 32px;\n",
              "      padding: 0 0 0 0;\n",
              "      width: 32px;\n",
              "    }\n",
              "\n",
              "    .colab-df-convert:hover {\n",
              "      background-color: #E2EBFA;\n",
              "      box-shadow: 0px 1px 2px rgba(60, 64, 67, 0.3), 0px 1px 3px 1px rgba(60, 64, 67, 0.15);\n",
              "      fill: #174EA6;\n",
              "    }\n",
              "\n",
              "    .colab-df-buttons div {\n",
              "      margin-bottom: 4px;\n",
              "    }\n",
              "\n",
              "    [theme=dark] .colab-df-convert {\n",
              "      background-color: #3B4455;\n",
              "      fill: #D2E3FC;\n",
              "    }\n",
              "\n",
              "    [theme=dark] .colab-df-convert:hover {\n",
              "      background-color: #434B5C;\n",
              "      box-shadow: 0px 1px 3px 1px rgba(0, 0, 0, 0.15);\n",
              "      filter: drop-shadow(0px 1px 2px rgba(0, 0, 0, 0.3));\n",
              "      fill: #FFFFFF;\n",
              "    }\n",
              "  </style>\n",
              "\n",
              "    <script>\n",
              "      const buttonEl =\n",
              "        document.querySelector('#df-e47f38bc-3a17-40be-9925-74f7421057ec button.colab-df-convert');\n",
              "      buttonEl.style.display =\n",
              "        google.colab.kernel.accessAllowed ? 'block' : 'none';\n",
              "\n",
              "      async function convertToInteractive(key) {\n",
              "        const element = document.querySelector('#df-e47f38bc-3a17-40be-9925-74f7421057ec');\n",
              "        const dataTable =\n",
              "          await google.colab.kernel.invokeFunction('convertToInteractive',\n",
              "                                                    [key], {});\n",
              "        if (!dataTable) return;\n",
              "\n",
              "        const docLinkHtml = 'Like what you see? Visit the ' +\n",
              "          '<a target=\"_blank\" href=https://colab.research.google.com/notebooks/data_table.ipynb>data table notebook</a>'\n",
              "          + ' to learn more about interactive tables.';\n",
              "        element.innerHTML = '';\n",
              "        dataTable['output_type'] = 'display_data';\n",
              "        await google.colab.output.renderOutput(dataTable, element);\n",
              "        const docLink = document.createElement('div');\n",
              "        docLink.innerHTML = docLinkHtml;\n",
              "        element.appendChild(docLink);\n",
              "      }\n",
              "    </script>\n",
              "  </div>\n",
              "\n",
              "    </div>\n",
              "  </div>\n"
            ]
          },
          "metadata": {},
          "execution_count": 30
        }
      ],
      "source": [
        "model_compare = pd.DataFrame(model_scores, index=['accuracy'])\n",
        "\n",
        "model_compare.head()"
      ]
    },
    {
      "cell_type": "code",
      "execution_count": null,
      "id": "7fc614cf",
      "metadata": {
        "colab": {
          "base_uri": "https://localhost:8080/",
          "height": 576
        },
        "id": "7fc614cf",
        "outputId": "3861c4d0-fac8-4f02-be31-d6a1e1c2a7a5"
      },
      "outputs": [
        {
          "output_type": "display_data",
          "data": {
            "text/plain": [
              "<Figure size 640x480 with 1 Axes>"
            ],
            "image/png": "[encoded data removed]"
          },
          "metadata": {}
        }
      ],
      "source": [
        "model_compare.T.plot(kind='bar');"
      ]
    },
    {
      "cell_type": "markdown",
      "id": "5d0f7deb",
      "metadata": {
        "id": "5d0f7deb"
      },
      "source": [
        "# Tuning or Improving our models"
      ]
    },
    {
      "cell_type": "markdown",
      "id": "d57a497d",
      "metadata": {
        "id": "d57a497d"
      },
      "source": [
        "# Hyperparameter Tuning"
      ]
    },
    {
      "cell_type": "code",
      "execution_count": null,
      "id": "a1abbb72",
      "metadata": {
        "colab": {
          "base_uri": "https://localhost:8080/",
          "height": 136
        },
        "id": "a1abbb72",
        "outputId": "68344f8d-08b6-4dae-cadd-62ee83c6c275"
      },
      "outputs": [
        {
          "output_type": "stream",
          "name": "stdout",
          "text": [
            "Fitting 5 folds for each of 20 candidates, totalling 100 fits\n"
          ]
        },
        {
          "output_type": "execute_result",
          "data": {
            "text/plain": [
              "GridSearchCV(cv=5, estimator=LogisticRegression(),\n",
              "             param_grid={'C': array([1.00000000e-04, 2.63665090e-04, 6.95192796e-04, 1.83298071e-03,\n",
              "       4.83293024e-03, 1.27427499e-02, 3.35981829e-02, 8.85866790e-02,\n",
              "       2.33572147e-01, 6.15848211e-01, 1.62377674e+00, 4.28133240e+00,\n",
              "       1.12883789e+01, 2.97635144e+01, 7.84759970e+01, 2.06913808e+02,\n",
              "       5.45559478e+02, 1.43844989e+03, 3.79269019e+03, 1.00000000e+04]),\n",
              "                         'solver': ['liblinear']},\n",
              "             verbose=True)"
            ],
            "text/html": [
              "<style>#sk-container-id-1 {color: black;background-color: white;}#sk-container-id-1 pre{padding: 0;}#sk-container-id-1 div.sk-toggleable {background-color: white;}#sk-container-id-1 label.sk-toggleable__label {cursor: pointer;display: block;width: 100%;margin-bottom: 0;padding: 0.3em;box-sizing: border-box;text-align: center;}#sk-container-id-1 label.sk-toggleable__label-arrow:before {content: \"▸\";float: left;margin-right: 0.25em;color: #696969;}#sk-container-id-1 label.sk-toggleable__label-arrow:hover:before {color: black;}#sk-container-id-1 div.sk-estimator:hover label.sk-toggleable__label-arrow:before {color: black;}#sk-container-id-1 div.sk-toggleable__content {max-height: 0;max-width: 0;overflow: hidden;text-align: left;background-color: #f0f8ff;}#sk-container-id-1 div.sk-toggleable__content pre {margin: 0.2em;color: black;border-radius: 0.25em;background-color: #f0f8ff;}#sk-container-id-1 input.sk-toggleable__control:checked~div.sk-toggleable__content {max-height: 200px;max-width: 100%;overflow: auto;}#sk-container-id-1 input.sk-toggleable__control:checked~label.sk-toggleable__label-arrow:before {content: \"▾\";}#sk-container-id-1 div.sk-estimator input.sk-toggleable__control:checked~label.sk-toggleable__label {background-color: #d4ebff;}#sk-container-id-1 div.sk-label input.sk-toggleable__control:checked~label.sk-toggleable__label {background-color: #d4ebff;}#sk-container-id-1 input.sk-hidden--visually {border: 0;clip: rect(1px 1px 1px 1px);clip: rect(1px, 1px, 1px, 1px);height: 1px;margin: -1px;overflow: hidden;padding: 0;position: absolute;width: 1px;}#sk-container-id-1 div.sk-estimator {font-family: monospace;background-color: #f0f8ff;border: 1px dotted black;border-radius: 0.25em;box-sizing: border-box;margin-bottom: 0.5em;}#sk-container-id-1 div.sk-estimator:hover {background-color: #d4ebff;}#sk-container-id-1 div.sk-parallel-item::after {content: \"\";width: 100%;border-bottom: 1px solid gray;flex-grow: 1;}#sk-container-id-1 div.sk-label:hover label.sk-toggleable__label {background-color: #d4ebff;}#sk-container-id-1 div.sk-serial::before {content: \"\";position: absolute;border-left: 1px solid gray;box-sizing: border-box;top: 0;bottom: 0;left: 50%;z-index: 0;}#sk-container-id-1 div.sk-serial {display: flex;flex-direction: column;align-items: center;background-color: white;padding-right: 0.2em;padding-left: 0.2em;position: relative;}#sk-container-id-1 div.sk-item {position: relative;z-index: 1;}#sk-container-id-1 div.sk-parallel {display: flex;align-items: stretch;justify-content: center;background-color: white;position: relative;}#sk-container-id-1 div.sk-item::before, #sk-container-id-1 div.sk-parallel-item::before {content: \"\";position: absolute;border-left: 1px solid gray;box-sizing: border-box;top: 0;bottom: 0;left: 50%;z-index: -1;}#sk-container-id-1 div.sk-parallel-item {display: flex;flex-direction: column;z-index: 1;position: relative;background-color: white;}#sk-container-id-1 div.sk-parallel-item:first-child::after {align-self: flex-end;width: 50%;}#sk-container-id-1 div.sk-parallel-item:last-child::after {align-self: flex-start;width: 50%;}#sk-container-id-1 div.sk-parallel-item:only-child::after {width: 0;}#sk-container-id-1 div.sk-dashed-wrapped {border: 1px dashed gray;margin: 0 0.4em 0.5em 0.4em;box-sizing: border-box;padding-bottom: 0.4em;background-color: white;}#sk-container-id-1 div.sk-label label {font-family: monospace;font-weight: bold;display: inline-block;line-height: 1.2em;}#sk-container-id-1 div.sk-label-container {text-align: center;}#sk-container-id-1 div.sk-container {/* jupyter's `normalize.less` sets `[hidden] { display: none; }` but bootstrap.min.css set `[hidden] { display: none !important; }` so we also need the `!important` here to be able to override the default hidden behavior on the sphinx rendered scikit-learn.org. See: https://github.com/scikit-learn/scikit-learn/issues/21755 */display: inline-block !important;position: relative;}#sk-container-id-1 div.sk-text-repr-fallback {display: none;}</style><div id=\"sk-container-id-1\" class=\"sk-top-container\"><div class=\"sk-text-repr-fallback\"><pre>GridSearchCV(cv=5, estimator=LogisticRegression(),\n",
              "             param_grid={&#x27;C&#x27;: array([1.00000000e-04, 2.63665090e-04, 6.95192796e-04, 1.83298071e-03,\n",
              "       4.83293024e-03, 1.27427499e-02, 3.35981829e-02, 8.85866790e-02,\n",
              "       2.33572147e-01, 6.15848211e-01, 1.62377674e+00, 4.28133240e+00,\n",
              "       1.12883789e+01, 2.97635144e+01, 7.84759970e+01, 2.06913808e+02,\n",
              "       5.45559478e+02, 1.43844989e+03, 3.79269019e+03, 1.00000000e+04]),\n",
              "                         &#x27;solver&#x27;: [&#x27;liblinear&#x27;]},\n",
              "             verbose=True)</pre><b>In a Jupyter environment, please rerun this cell to show the HTML representation or trust the notebook. <br />On GitHub, the HTML representation is unable to render, please try loading this page with nbviewer.org.</b></div><div class=\"sk-container\" hidden><div class=\"sk-item sk-dashed-wrapped\"><div class=\"sk-label-container\"><div class=\"sk-label sk-toggleable\"><input class=\"sk-toggleable__control sk-hidden--visually\" id=\"sk-estimator-id-1\" type=\"checkbox\" ><label for=\"sk-estimator-id-1\" class=\"sk-toggleable__label sk-toggleable__label-arrow\">GridSearchCV</label><div class=\"sk-toggleable__content\"><pre>GridSearchCV(cv=5, estimator=LogisticRegression(),\n",
              "             param_grid={&#x27;C&#x27;: array([1.00000000e-04, 2.63665090e-04, 6.95192796e-04, 1.83298071e-03,\n",
              "       4.83293024e-03, 1.27427499e-02, 3.35981829e-02, 8.85866790e-02,\n",
              "       2.33572147e-01, 6.15848211e-01, 1.62377674e+00, 4.28133240e+00,\n",
              "       1.12883789e+01, 2.97635144e+01, 7.84759970e+01, 2.06913808e+02,\n",
              "       5.45559478e+02, 1.43844989e+03, 3.79269019e+03, 1.00000000e+04]),\n",
              "                         &#x27;solver&#x27;: [&#x27;liblinear&#x27;]},\n",
              "             verbose=True)</pre></div></div></div><div class=\"sk-parallel\"><div class=\"sk-parallel-item\"><div class=\"sk-item\"><div class=\"sk-label-container\"><div class=\"sk-label sk-toggleable\"><input class=\"sk-toggleable__control sk-hidden--visually\" id=\"sk-estimator-id-2\" type=\"checkbox\" ><label for=\"sk-estimator-id-2\" class=\"sk-toggleable__label sk-toggleable__label-arrow\">estimator: LogisticRegression</label><div class=\"sk-toggleable__content\"><pre>LogisticRegression()</pre></div></div></div><div class=\"sk-serial\"><div class=\"sk-item\"><div class=\"sk-estimator sk-toggleable\"><input class=\"sk-toggleable__control sk-hidden--visually\" id=\"sk-estimator-id-3\" type=\"checkbox\" ><label for=\"sk-estimator-id-3\" class=\"sk-toggleable__label sk-toggleable__label-arrow\">LogisticRegression</label><div class=\"sk-toggleable__content\"><pre>LogisticRegression()</pre></div></div></div></div></div></div></div></div></div></div>"
            ]
          },
          "metadata": {},
          "execution_count": 32
        }
      ],
      "source": [
        "# create hyperparameter grid for Logistic Regression\n",
        "log_reg_grid = {\n",
        "    'C': np.logspace(-4, 4, 20),\n",
        "    'solver': ['liblinear']\n",
        "}\n",
        "\n",
        "# set up grid hyperparameter search for Logistic Regression\n",
        "gs_log_reg = GridSearchCV(LogisticRegression(),\n",
        "                                          log_reg_grid,\n",
        "                                          cv=5,\n",
        "                                          verbose=True)\n",
        "\n",
        "# train the model\n",
        "gs_log_reg.fit(X_train, y_train)"
      ]
    },
    {
      "cell_type": "code",
      "execution_count": null,
      "id": "ef83f13c",
      "metadata": {
        "colab": {
          "base_uri": "https://localhost:8080/"
        },
        "id": "ef83f13c",
        "outputId": "89fbd04a-31f0-4934-b98e-b8a826ecad7a"
      },
      "outputs": [
        {
          "output_type": "execute_result",
          "data": {
            "text/plain": [
              "{'C': 0.08858667904100823, 'solver': 'liblinear'}"
            ]
          },
          "metadata": {},
          "execution_count": 33
        }
      ],
      "source": [
        "# get best parameters\n",
        "gs_log_reg.best_params_"
      ]
    },
    {
      "cell_type": "code",
      "execution_count": null,
      "id": "b253958b",
      "metadata": {
        "colab": {
          "base_uri": "https://localhost:8080/"
        },
        "id": "b253958b",
        "outputId": "de0e336a-a04f-4163-ecf9-80ff83e9389f"
      },
      "outputs": [
        {
          "output_type": "execute_result",
          "data": {
            "text/plain": [
              "0.7894736842105263"
            ]
          },
          "metadata": {},
          "execution_count": 34
        }
      ],
      "source": [
        "# get the score\n",
        "gs_log_reg.score(X_test, y_test)"
      ]
    },
    {
      "cell_type": "markdown",
      "id": "ec5a6c43",
      "metadata": {
        "id": "ec5a6c43"
      },
      "source": [
        "# Evaluating Models"
      ]
    },
    {
      "cell_type": "code",
      "execution_count": null,
      "id": "ee066bd2",
      "metadata": {
        "id": "ee066bd2"
      },
      "outputs": [],
      "source": [
        "# make predictions\n",
        "y_preds = gs_log_reg.predict(X_test)"
      ]
    },
    {
      "cell_type": "code",
      "execution_count": null,
      "id": "63d2b5ba",
      "metadata": {
        "id": "63d2b5ba"
      },
      "outputs": [],
      "source": [
        "# # ROC curve and AUC\n",
        "# plot_roc_curve(gs_log_reg, X_test, y_test);"
      ]
    },
    {
      "cell_type": "code",
      "execution_count": null,
      "id": "1d132093",
      "metadata": {
        "colab": {
          "base_uri": "https://localhost:8080/"
        },
        "id": "1d132093",
        "outputId": "f963c279-0016-4929-de25-894657d07057"
      },
      "outputs": [
        {
          "output_type": "execute_result",
          "data": {
            "text/plain": [
              "array([[389,  69],\n",
              "       [ 83, 181]])"
            ]
          },
          "metadata": {},
          "execution_count": 36
        }
      ],
      "source": [
        "confusion_matrix(y_test, y_preds)"
      ]
    },
    {
      "cell_type": "code",
      "execution_count": null,
      "id": "6992bcd9",
      "metadata": {
        "id": "6992bcd9"
      },
      "outputs": [],
      "source": [
        "# plot_confusion_matrix(gs_log_reg, X_test, y_test);"
      ]
    },
    {
      "cell_type": "code",
      "source": [
        "import seaborn as sns\n",
        "from sklearn.metrics import confusion_matrix\n",
        "\n",
        "cm = confusion_matrix(y_test, y_preds)\n",
        "sns.heatmap(cm, annot=True, fmt='d', cmap='Blues')"
      ],
      "metadata": {
        "colab": {
          "base_uri": "https://localhost:8080/",
          "height": 447
        },
        "id": "CVRsu-ikLSJb",
        "outputId": "f1a3233b-2ab3-41c2-bfeb-a88d4c298b5e"
      },
      "id": "CVRsu-ikLSJb",
      "execution_count": null,
      "outputs": [
        {
          "output_type": "execute_result",
          "data": {
            "text/plain": [
              "<Axes: >"
            ]
          },
          "metadata": {},
          "execution_count": 38
        },
        {
          "output_type": "display_data",
          "data": {
            "text/plain": [
              "<Figure size 640x480 with 2 Axes>"
            ],
            "image/png": "[encoded data removed]"
          },
          "metadata": {}
        }
      ]
    },
    {
      "cell_type": "code",
      "execution_count": null,
      "id": "2a40cdd4",
      "metadata": {
        "colab": {
          "base_uri": "https://localhost:8080/"
        },
        "id": "2a40cdd4",
        "outputId": "d679213f-26ea-43b5-e673-0741a42c00af"
      },
      "outputs": [
        {
          "output_type": "stream",
          "name": "stdout",
          "text": [
            "| precision   | recall   |   f1-score |   support |\n",
            "|-------------|----------|------------|-----------|\n",
            "|             |          |            |           |\n",
            "| 0.0         | 0.82     |       0.85 |      0.84 |\n",
            "| 1.0         | 0.72     |       0.69 |      0.7  |\n",
            "|             |          |            |           |\n",
            "| accuracy    | 0.79     |     722    |           |\n",
            "| macro       | avg      |       0.77 |      0.77 |\n",
            "| weighted    | avg      |       0.79 |      0.79 |\n",
            "|             |          |            |           |\n"
          ]
        }
      ],
      "source": [
        "from sklearn.metrics import classification_report\n",
        "from tabulate import tabulate\n",
        "\n",
        "report = classification_report(y_test, y_preds)\n",
        "table = tabulate([row.split() for row in report.split('\\n')], headers='firstrow', tablefmt='github')\n",
        "print(table)"
      ]
    },
    {
      "cell_type": "markdown",
      "id": "670c625d",
      "metadata": {
        "id": "670c625d"
      },
      "source": [
        "## Calculate evaluation metrics using Cross Validated Precision, Recall and F1 score"
      ]
    },
    {
      "cell_type": "code",
      "execution_count": null,
      "id": "13bcef11",
      "metadata": {
        "colab": {
          "base_uri": "https://localhost:8080/"
        },
        "id": "13bcef11",
        "outputId": "19c60a6b-e7d9-4040-f568-acd386c86b13"
      },
      "outputs": [
        {
          "output_type": "execute_result",
          "data": {
            "text/plain": [
              "{'C': 0.08858667904100823, 'solver': 'liblinear'}"
            ]
          },
          "metadata": {},
          "execution_count": 122
        }
      ],
      "source": [
        "# check current best parameter\n",
        "gs_log_reg.best_params_"
      ]
    },
    {
      "cell_type": "code",
      "execution_count": null,
      "id": "847e2e7c",
      "metadata": {
        "id": "847e2e7c"
      },
      "outputs": [],
      "source": [
        "# create a new classifier with current best parameter\n",
        "clf = LogisticRegression(C=0.23357214690901212, solver='liblinear')"
      ]
    },
    {
      "cell_type": "code",
      "execution_count": null,
      "id": "91fe59e5",
      "metadata": {
        "colab": {
          "base_uri": "https://localhost:8080/"
        },
        "id": "91fe59e5",
        "outputId": "3ff39be0-4e05-4ac4-f0a2-d84f28e45794"
      },
      "outputs": [
        {
          "output_type": "execute_result",
          "data": {
            "text/plain": [
              "array([0.75484765, 0.75900277, 0.81163435, 0.7739251 , 0.80305132])"
            ]
          },
          "metadata": {},
          "execution_count": 124
        }
      ],
      "source": [
        "# Cross Validated Accuracy\n",
        "cv_accuracy = cross_val_score(clf, X, y, scoring='accuracy', cv=5)\n",
        "cv_accuracy"
      ]
    },
    {
      "cell_type": "code",
      "execution_count": null,
      "id": "ae2c5e6c",
      "metadata": {
        "colab": {
          "base_uri": "https://localhost:8080/"
        },
        "id": "ae2c5e6c",
        "outputId": "0452e370-e02e-4f00-806a-0219aca785a5"
      },
      "outputs": [
        {
          "output_type": "execute_result",
          "data": {
            "text/plain": [
              "0.7804922372359104"
            ]
          },
          "metadata": {},
          "execution_count": 125
        }
      ],
      "source": [
        "# mean of cross valided accuracy\n",
        "cv_accuracy = np.mean(cv_accuracy)\n",
        "cv_accuracy"
      ]
    },
    {
      "cell_type": "code",
      "execution_count": null,
      "id": "6f9d2ac6",
      "metadata": {
        "colab": {
          "base_uri": "https://localhost:8080/"
        },
        "id": "6f9d2ac6",
        "outputId": "3f3988cf-dc4a-4072-8980-1a99be12d407"
      },
      "outputs": [
        {
          "output_type": "execute_result",
          "data": {
            "text/plain": [
              "0.717228041575398"
            ]
          },
          "metadata": {},
          "execution_count": 126
        }
      ],
      "source": [
        "# Cross Validated Precision\n",
        "cv_precision = cross_val_score(clf, X, y, scoring='precision', cv=5)\n",
        "\n",
        "cv_precision = np.mean(cv_precision)\n",
        "cv_precision"
      ]
    },
    {
      "cell_type": "code",
      "execution_count": null,
      "id": "cb856c94",
      "metadata": {
        "colab": {
          "base_uri": "https://localhost:8080/"
        },
        "id": "cb856c94",
        "outputId": "2496fc69-59f1-4fcb-b984-4b1947147630"
      },
      "outputs": [
        {
          "output_type": "execute_result",
          "data": {
            "text/plain": [
              "0.6865557846754937"
            ]
          },
          "metadata": {},
          "execution_count": 127
        }
      ],
      "source": [
        "# Cross Validated Recall\n",
        "cv_recall = cross_val_score(clf, X, y, scoring='recall', cv=5)\n",
        "\n",
        "cv_recall = np.mean(cv_recall)\n",
        "cv_recall"
      ]
    },
    {
      "cell_type": "code",
      "execution_count": null,
      "id": "e6336971",
      "metadata": {
        "colab": {
          "base_uri": "https://localhost:8080/"
        },
        "id": "e6336971",
        "outputId": "ec097a61-b2d6-4433-feb0-bac6a6eb3471"
      },
      "outputs": [
        {
          "output_type": "execute_result",
          "data": {
            "text/plain": [
              "0.7005766545855451"
            ]
          },
          "metadata": {},
          "execution_count": 128
        }
      ],
      "source": [
        "# Cross Validated F1\n",
        "cv_f1 = cross_val_score(clf, X, y, scoring='f1', cv=5)\n",
        "\n",
        "cv_f1 = np.mean(cv_f1)\n",
        "cv_f1"
      ]
    },
    {
      "cell_type": "code",
      "execution_count": null,
      "id": "3f666616",
      "metadata": {
        "colab": {
          "base_uri": "https://localhost:8080/",
          "height": 482
        },
        "id": "3f666616",
        "outputId": "670b3c12-cf35-44e7-c002-edcde423402d"
      },
      "outputs": [
        {
          "output_type": "display_data",
          "data": {
            "text/plain": [
              "<Figure size 640x480 with 1 Axes>"
            ],
            "image/png": "[encoded data removed]"
          },
          "metadata": {}
        }
      ],
      "source": [
        "# Visualize cross-validated metrics\n",
        "cv_metrics = pd.DataFrame({'Accuracy': cv_accuracy,\n",
        "                                            'Precision': cv_precision,\n",
        "                                            'Recall': cv_recall,\n",
        "                                            'F1': cv_f1},\n",
        "                                             index=[0])\n",
        "\n",
        "cv_metrics.T.plot.bar(legend=False);\n",
        "\n",
        "plt.title('Cross Validated Classification Metrics')\n",
        "plt.xticks(rotation=30);"
      ]
    },
    {
      "cell_type": "markdown",
      "id": "4c0a2eca",
      "metadata": {
        "id": "4c0a2eca"
      },
      "source": [
        "## Feature Importance"
      ]
    },
    {
      "cell_type": "code",
      "execution_count": null,
      "id": "f6c91c29",
      "metadata": {
        "colab": {
          "base_uri": "https://localhost:8080/",
          "height": 75
        },
        "id": "f6c91c29",
        "outputId": "69bbb395-bd91-46fc-d4fb-2548f43e8328"
      },
      "outputs": [
        {
          "output_type": "execute_result",
          "data": {
            "text/plain": [
              "LogisticRegression(C=0.23357214690901212, solver='liblinear')"
            ],
            "text/html": [
              "<style>#sk-container-id-5 {color: black;background-color: white;}#sk-container-id-5 pre{padding: 0;}#sk-container-id-5 div.sk-toggleable {background-color: white;}#sk-container-id-5 label.sk-toggleable__label {cursor: pointer;display: block;width: 100%;margin-bottom: 0;padding: 0.3em;box-sizing: border-box;text-align: center;}#sk-container-id-5 label.sk-toggleable__label-arrow:before {content: \"▸\";float: left;margin-right: 0.25em;color: #696969;}#sk-container-id-5 label.sk-toggleable__label-arrow:hover:before {color: black;}#sk-container-id-5 div.sk-estimator:hover label.sk-toggleable__label-arrow:before {color: black;}#sk-container-id-5 div.sk-toggleable__content {max-height: 0;max-width: 0;overflow: hidden;text-align: left;background-color: #f0f8ff;}#sk-container-id-5 div.sk-toggleable__content pre {margin: 0.2em;color: black;border-radius: 0.25em;background-color: #f0f8ff;}#sk-container-id-5 input.sk-toggleable__control:checked~div.sk-toggleable__content {max-height: 200px;max-width: 100%;overflow: auto;}#sk-container-id-5 input.sk-toggleable__control:checked~label.sk-toggleable__label-arrow:before {content: \"▾\";}#sk-container-id-5 div.sk-estimator input.sk-toggleable__control:checked~label.sk-toggleable__label {background-color: #d4ebff;}#sk-container-id-5 div.sk-label input.sk-toggleable__control:checked~label.sk-toggleable__label {background-color: #d4ebff;}#sk-container-id-5 input.sk-hidden--visually {border: 0;clip: rect(1px 1px 1px 1px);clip: rect(1px, 1px, 1px, 1px);height: 1px;margin: -1px;overflow: hidden;padding: 0;position: absolute;width: 1px;}#sk-container-id-5 div.sk-estimator {font-family: monospace;background-color: #f0f8ff;border: 1px dotted black;border-radius: 0.25em;box-sizing: border-box;margin-bottom: 0.5em;}#sk-container-id-5 div.sk-estimator:hover {background-color: #d4ebff;}#sk-container-id-5 div.sk-parallel-item::after {content: \"\";width: 100%;border-bottom: 1px solid gray;flex-grow: 1;}#sk-container-id-5 div.sk-label:hover label.sk-toggleable__label {background-color: #d4ebff;}#sk-container-id-5 div.sk-serial::before {content: \"\";position: absolute;border-left: 1px solid gray;box-sizing: border-box;top: 0;bottom: 0;left: 50%;z-index: 0;}#sk-container-id-5 div.sk-serial {display: flex;flex-direction: column;align-items: center;background-color: white;padding-right: 0.2em;padding-left: 0.2em;position: relative;}#sk-container-id-5 div.sk-item {position: relative;z-index: 1;}#sk-container-id-5 div.sk-parallel {display: flex;align-items: stretch;justify-content: center;background-color: white;position: relative;}#sk-container-id-5 div.sk-item::before, #sk-container-id-5 div.sk-parallel-item::before {content: \"\";position: absolute;border-left: 1px solid gray;box-sizing: border-box;top: 0;bottom: 0;left: 50%;z-index: -1;}#sk-container-id-5 div.sk-parallel-item {display: flex;flex-direction: column;z-index: 1;position: relative;background-color: white;}#sk-container-id-5 div.sk-parallel-item:first-child::after {align-self: flex-end;width: 50%;}#sk-container-id-5 div.sk-parallel-item:last-child::after {align-self: flex-start;width: 50%;}#sk-container-id-5 div.sk-parallel-item:only-child::after {width: 0;}#sk-container-id-5 div.sk-dashed-wrapped {border: 1px dashed gray;margin: 0 0.4em 0.5em 0.4em;box-sizing: border-box;padding-bottom: 0.4em;background-color: white;}#sk-container-id-5 div.sk-label label {font-family: monospace;font-weight: bold;display: inline-block;line-height: 1.2em;}#sk-container-id-5 div.sk-label-container {text-align: center;}#sk-container-id-5 div.sk-container {/* jupyter's `normalize.less` sets `[hidden] { display: none; }` but bootstrap.min.css set `[hidden] { display: none !important; }` so we also need the `!important` here to be able to override the default hidden behavior on the sphinx rendered scikit-learn.org. See: https://github.com/scikit-learn/scikit-learn/issues/21755 */display: inline-block !important;position: relative;}#sk-container-id-5 div.sk-text-repr-fallback {display: none;}</style><div id=\"sk-container-id-5\" class=\"sk-top-container\"><div class=\"sk-text-repr-fallback\"><pre>LogisticRegression(C=0.23357214690901212, solver=&#x27;liblinear&#x27;)</pre><b>In a Jupyter environment, please rerun this cell to show the HTML representation or trust the notebook. <br />On GitHub, the HTML representation is unable to render, please try loading this page with nbviewer.org.</b></div><div class=\"sk-container\" hidden><div class=\"sk-item\"><div class=\"sk-estimator sk-toggleable\"><input class=\"sk-toggleable__control sk-hidden--visually\" id=\"sk-estimator-id-11\" type=\"checkbox\" checked><label for=\"sk-estimator-id-11\" class=\"sk-toggleable__label sk-toggleable__label-arrow\">LogisticRegression</label><div class=\"sk-toggleable__content\"><pre>LogisticRegression(C=0.23357214690901212, solver=&#x27;liblinear&#x27;)</pre></div></div></div></div></div>"
            ]
          },
          "metadata": {},
          "execution_count": 130
        }
      ],
      "source": [
        "model = LogisticRegression(C=0.23357214690901212, solver='liblinear')\n",
        "model.fit(X_train, y_train)"
      ]
    },
    {
      "cell_type": "code",
      "execution_count": null,
      "id": "b73d6088",
      "metadata": {
        "colab": {
          "base_uri": "https://localhost:8080/"
        },
        "id": "b73d6088",
        "outputId": "deaa1a0c-5e5a-44b0-d127-a5a43ee585a6"
      },
      "outputs": [
        {
          "output_type": "execute_result",
          "data": {
            "text/plain": [
              "array([[ 0.0644727 ,  0.00407362,  0.19177566, -0.42817544, -0.00431199,\n",
              "         0.00187709, -0.00375054]])"
            ]
          },
          "metadata": {},
          "execution_count": 131
        }
      ],
      "source": [
        "# check Coefficient of features\n",
        "model.coef_"
      ]
    },
    {
      "cell_type": "code",
      "execution_count": null,
      "id": "e90310c6",
      "metadata": {
        "colab": {
          "base_uri": "https://localhost:8080/"
        },
        "id": "e90310c6",
        "outputId": "075fd20c-e8af-46e4-c5bf-94d03279879c"
      },
      "outputs": [
        {
          "output_type": "execute_result",
          "data": {
            "text/plain": [
              "{'Age': 0.06447270179100581,\n",
              " 'Creatinine': 0.004073619451994267,\n",
              " 'Glycohemoglobin': 0.1917756623550619,\n",
              " 'Cholesterol': -0.42817544018436104,\n",
              " 'Platelet-count': -0.004311993933001734,\n",
              " 'Uric.Acid': 0.00187709499508946,\n",
              " 'Glucose': -0.003750544722774483}"
            ]
          },
          "metadata": {},
          "execution_count": 133
        }
      ],
      "source": [
        "# Match coef's of features to columns name\n",
        "feature_dict = dict(zip(data_new.columns, list(model.coef_[0])))\n",
        "\n",
        "feature_dict"
      ]
    },
    {
      "cell_type": "code",
      "execution_count": null,
      "id": "7be63dd7",
      "metadata": {
        "id": "7be63dd7",
        "outputId": "b94d1e9c-2479-44e9-d8bf-ea368437858a",
        "colab": {
          "base_uri": "https://localhost:8080/"
        }
      },
      "outputs": [
        {
          "output_type": "execute_result",
          "data": {
            "text/plain": [
              "Index(['Age', 'Creatinine', 'Glycohemoglobin', 'Cholesterol', 'Platelet-count',\n",
              "       'Uric.Acid', 'Glucose'],\n",
              "      dtype='object')"
            ]
          },
          "metadata": {},
          "execution_count": 135
        }
      ],
      "source": [
        "X.columns"
      ]
    },
    {
      "cell_type": "markdown",
      "source": [
        "\n",
        "\n",
        "*   **Age**: Tuổi tác thường là một yếu tố nguy cơ cho bệnh tim mạch. Người có tuổi cao hơn thường có nguy cơ cao hơn mắc bệnh mạch vành. Tuổi tác cũng thường đi kèm với quá trình lão hóa mạch máu, làm tăng nguy cơ tắc nghẽn động mạch.\n",
        "*   **Creatinine**: Creatinine thường được sử dụng để đánh giá chức năng thận. Bệnh thận có thể dẫn đến các vấn đề sức khỏe khác, và các nghiên cứu đã chỉ ra rằng bệnh thận có thể được liên kết với tăng nguy cơ mắc bệnh tim mạch.\n",
        "*  **Glycohemoglobin**: Mức độ kiểm soát đường huyết, được đánh giá thông qua Glycohemoglobin (HbA1c), liên quan mật thiết đến bệnh tiểu đường. Người bị tiểu đường thường có nguy cơ cao hơn mắc bệnh tim mạch do tác động của đường huyết cao đối với mạch máu.\n",
        "*   **Cholesterol**: Mức độ cholesterol cao, đặc biệt là mức cholesterol LDL (xấu), có thể dẫn đến tạo thành xơ vữa trong mạch máu, tăng nguy cơ tắc nghẽn động mạch và gây bệnh mạch vành.\n",
        "*   **Platelet-count:** Số lượng tiểu cầu cao có thể gây ra hình thành cục máu và tăng nguy cơ các vấn đề tim mạch như đau thắt ngực và đột quỵ.\n",
        "*   **Uric Acid:** Mức cao của uric acid có thể gây ra việc tích tụ của các tinh thể urate trong cơ thể, gây ra việc viêm khớp và nhiều rủi ro khác, có thể ảnh hưởng đến sức khỏe tim mạch.\n",
        "*   **Glucose**: Mức độ glucose cao trong máu, như ở người mắc tiểu đường, có thể gây tổn thương mạch máu và gây ra bệnh tim mạch.\n",
        "\n",
        "\n",
        "\n",
        "\n"
      ],
      "metadata": {
        "id": "2tmdlI2-Q8zG"
      },
      "id": "2tmdlI2-Q8zG"
    },
    {
      "cell_type": "code",
      "source": [
        "\n",
        "def predict_Heart_Disease():\n",
        "    age = float(input(\"Nhập tuổi: \"))\n",
        "    creatinine = float(input(\"Nhập Creatinine level: \"))\n",
        "    glycohemoglobin = float(input(\"Nhập Glycohemoglobin level: \"))\n",
        "    cholesterol = float(input(\"Nhập Cholesterol level: \"))\n",
        "    platelet_count = float(input(\"Nhập Platelet count: \"))\n",
        "    uric_acid = float(input(\"Nhập Uric Acid level: \"))\n",
        "    glucose = float(input(\"Nhập Glucose level: \"))\n",
        "\n",
        "    # Tạo vector input với các đặc trưng\n",
        "    x = np.array([age, creatinine, glycohemoglobin, cholesterol, platelet_count, uric_acid, glucose]).reshape(1, -1)\n",
        "\n",
        "    # Thực hiện dự đoán bằng mô hình đã được huấn luyện (gs_log_reg)\n",
        "    return gs_log_reg.predict(x)[0]\n",
        "\n",
        "\n",
        "# Gọi hàm để dự đoán\n",
        "result = predict_Heart_Disease()\n",
        "print(\"Kết quả dự đoán: \", result)\n"
      ],
      "metadata": {
        "colab": {
          "base_uri": "https://localhost:8080/"
        },
        "id": "ptvaYPMHjPUA",
        "outputId": "b7cfa969-eb80-48cb-c045-909e7be88376"
      },
      "id": "ptvaYPMHjPUA",
      "execution_count": null,
      "outputs": [
        {
          "output_type": "stream",
          "name": "stdout",
          "text": [
            "Nhập tuổi: 62\n",
            "Nhập Creatinine level: 61.88\n",
            "Nhập Glycohemoglobin level: 5.5\n",
            "Nhập Cholesterol level: 4.6\n",
            "Nhập Platelet count: 327\n",
            "Nhập Uric Acid level: 237\n",
            "Nhập Glucose level: 5.384\n",
            "Kết quả dự đoán:  0.0\n"
          ]
        }
      ]
    },
    {
      "cell_type": "code",
      "execution_count": null,
      "id": "50704a18",
      "metadata": {
        "id": "50704a18",
        "colab": {
          "base_uri": "https://localhost:8080/",
          "height": 363
        },
        "outputId": "a5715f4c-6109-4eef-baee-5f401bea783d"
      },
      "outputs": [
        {
          "output_type": "execute_result",
          "data": {
            "text/plain": [
              "    Age  Creatinine  Glycohemoglobin  Cholesterol  Platelet-count  Uric.Acid  \\\n",
              "0  43.0       61.88              5.5        4.600           327.0      237.9   \n",
              "1  39.0       61.90              4.9        4.110           185.0      255.8   \n",
              "2  37.0       88.40              5.8        5.301           205.0      428.3   \n",
              "3  50.0       53.92              5.6        5.870           285.0      321.2   \n",
              "4  61.0      106.08              5.8        4.448           299.0      356.9   \n",
              "5  48.0       82.21              6.2        8.249           341.0      517.5   \n",
              "6  20.0       79.56              5.5        6.155           263.0      350.9   \n",
              "7  61.0       97.24              5.7        7.939           177.0      434.2   \n",
              "8  40.0       53.00              4.9        5.220           209.0      303.3   \n",
              "9  57.0      102.54              4.3        5.172           305.0      458.0   \n",
              "\n",
              "   Glucose  CoronaryHeartDisease  \n",
              "0    5.384                   0.0  \n",
              "1    4.774                   0.0  \n",
              "2    7.160                   0.0  \n",
              "3    5.110                   0.0  \n",
              "4    4.770                   0.0  \n",
              "5    5.720                   0.0  \n",
              "6    5.050                   0.0  \n",
              "7    5.440                   0.0  \n",
              "8    4.552                   0.0  \n",
              "9    4.390                   0.0  "
            ],
            "text/html": [
              "\n",
              "  <div id=\"df-42cc4d78-aae2-487a-8bf1-36026a8b9db1\" class=\"colab-df-container\">\n",
              "    <div>\n",
              "<style scoped>\n",
              "    .dataframe tbody tr th:only-of-type {\n",
              "        vertical-align: middle;\n",
              "    }\n",
              "\n",
              "    .dataframe tbody tr th {\n",
              "        vertical-align: top;\n",
              "    }\n",
              "\n",
              "    .dataframe thead th {\n",
              "        text-align: right;\n",
              "    }\n",
              "</style>\n",
              "<table border=\"1\" class=\"dataframe\">\n",
              "  <thead>\n",
              "    <tr style=\"text-align: right;\">\n",
              "      <th></th>\n",
              "      <th>Age</th>\n",
              "      <th>Creatinine</th>\n",
              "      <th>Glycohemoglobin</th>\n",
              "      <th>Cholesterol</th>\n",
              "      <th>Platelet-count</th>\n",
              "      <th>Uric.Acid</th>\n",
              "      <th>Glucose</th>\n",
              "      <th>CoronaryHeartDisease</th>\n",
              "    </tr>\n",
              "  </thead>\n",
              "  <tbody>\n",
              "    <tr>\n",
              "      <th>0</th>\n",
              "      <td>43.0</td>\n",
              "      <td>61.88</td>\n",
              "      <td>5.5</td>\n",
              "      <td>4.600</td>\n",
              "      <td>327.0</td>\n",
              "      <td>237.9</td>\n",
              "      <td>5.384</td>\n",
              "      <td>0.0</td>\n",
              "    </tr>\n",
              "    <tr>\n",
              "      <th>1</th>\n",
              "      <td>39.0</td>\n",
              "      <td>61.90</td>\n",
              "      <td>4.9</td>\n",
              "      <td>4.110</td>\n",
              "      <td>185.0</td>\n",
              "      <td>255.8</td>\n",
              "      <td>4.774</td>\n",
              "      <td>0.0</td>\n",
              "    </tr>\n",
              "    <tr>\n",
              "      <th>2</th>\n",
              "      <td>37.0</td>\n",
              "      <td>88.40</td>\n",
              "      <td>5.8</td>\n",
              "      <td>5.301</td>\n",
              "      <td>205.0</td>\n",
              "      <td>428.3</td>\n",
              "      <td>7.160</td>\n",
              "      <td>0.0</td>\n",
              "    </tr>\n",
              "    <tr>\n",
              "      <th>3</th>\n",
              "      <td>50.0</td>\n",
              "      <td>53.92</td>\n",
              "      <td>5.6</td>\n",
              "      <td>5.870</td>\n",
              "      <td>285.0</td>\n",
              "      <td>321.2</td>\n",
              "      <td>5.110</td>\n",
              "      <td>0.0</td>\n",
              "    </tr>\n",
              "    <tr>\n",
              "      <th>4</th>\n",
              "      <td>61.0</td>\n",
              "      <td>106.08</td>\n",
              "      <td>5.8</td>\n",
              "      <td>4.448</td>\n",
              "      <td>299.0</td>\n",
              "      <td>356.9</td>\n",
              "      <td>4.770</td>\n",
              "      <td>0.0</td>\n",
              "    </tr>\n",
              "    <tr>\n",
              "      <th>5</th>\n",
              "      <td>48.0</td>\n",
              "      <td>82.21</td>\n",
              "      <td>6.2</td>\n",
              "      <td>8.249</td>\n",
              "      <td>341.0</td>\n",
              "      <td>517.5</td>\n",
              "      <td>5.720</td>\n",
              "      <td>0.0</td>\n",
              "    </tr>\n",
              "    <tr>\n",
              "      <th>6</th>\n",
              "      <td>20.0</td>\n",
              "      <td>79.56</td>\n",
              "      <td>5.5</td>\n",
              "      <td>6.155</td>\n",
              "      <td>263.0</td>\n",
              "      <td>350.9</td>\n",
              "      <td>5.050</td>\n",
              "      <td>0.0</td>\n",
              "    </tr>\n",
              "    <tr>\n",
              "      <th>7</th>\n",
              "      <td>61.0</td>\n",
              "      <td>97.24</td>\n",
              "      <td>5.7</td>\n",
              "      <td>7.939</td>\n",
              "      <td>177.0</td>\n",
              "      <td>434.2</td>\n",
              "      <td>5.440</td>\n",
              "      <td>0.0</td>\n",
              "    </tr>\n",
              "    <tr>\n",
              "      <th>8</th>\n",
              "      <td>40.0</td>\n",
              "      <td>53.00</td>\n",
              "      <td>4.9</td>\n",
              "      <td>5.220</td>\n",
              "      <td>209.0</td>\n",
              "      <td>303.3</td>\n",
              "      <td>4.552</td>\n",
              "      <td>0.0</td>\n",
              "    </tr>\n",
              "    <tr>\n",
              "      <th>9</th>\n",
              "      <td>57.0</td>\n",
              "      <td>102.54</td>\n",
              "      <td>4.3</td>\n",
              "      <td>5.172</td>\n",
              "      <td>305.0</td>\n",
              "      <td>458.0</td>\n",
              "      <td>4.390</td>\n",
              "      <td>0.0</td>\n",
              "    </tr>\n",
              "  </tbody>\n",
              "</table>\n",
              "</div>\n",
              "    <div class=\"colab-df-buttons\">\n",
              "\n",
              "  <div class=\"colab-df-container\">\n",
              "    <button class=\"colab-df-convert\" onclick=\"convertToInteractive('df-42cc4d78-aae2-487a-8bf1-36026a8b9db1')\"\n",
              "            title=\"Convert this dataframe to an interactive table.\"\n",
              "            style=\"display:none;\">\n",
              "\n",
              "  <svg xmlns=\"http://www.w3.org/2000/svg\" height=\"24px\" viewBox=\"0 -960 960 960\">\n",
              "    <path d=\"M120-120v-720h720v720H120Zm60-500h600v-160H180v160Zm220 220h160v-160H400v160Zm0 220h160v-160H400v160ZM180-400h160v-160H180v160Zm440 0h160v-160H620v160ZM180-180h160v-160H180v160Zm440 0h160v-160H620v160Z\"/>\n",
              "  </svg>\n",
              "    </button>\n",
              "\n",
              "  <style>\n",
              "    .colab-df-container {\n",
              "      display:flex;\n",
              "      gap: 12px;\n",
              "    }\n",
              "\n",
              "    .colab-df-convert {\n",
              "      background-color: #E8F0FE;\n",
              "      border: none;\n",
              "      border-radius: 50%;\n",
              "      cursor: pointer;\n",
              "      display: none;\n",
              "      fill: #1967D2;\n",
              "      height: 32px;\n",
              "      padding: 0 0 0 0;\n",
              "      width: 32px;\n",
              "    }\n",
              "\n",
              "    .colab-df-convert:hover {\n",
              "      background-color: #E2EBFA;\n",
              "      box-shadow: 0px 1px 2px rgba(60, 64, 67, 0.3), 0px 1px 3px 1px rgba(60, 64, 67, 0.15);\n",
              "      fill: #174EA6;\n",
              "    }\n",
              "\n",
              "    .colab-df-buttons div {\n",
              "      margin-bottom: 4px;\n",
              "    }\n",
              "\n",
              "    [theme=dark] .colab-df-convert {\n",
              "      background-color: #3B4455;\n",
              "      fill: #D2E3FC;\n",
              "    }\n",
              "\n",
              "    [theme=dark] .colab-df-convert:hover {\n",
              "      background-color: #434B5C;\n",
              "      box-shadow: 0px 1px 3px 1px rgba(0, 0, 0, 0.15);\n",
              "      filter: drop-shadow(0px 1px 2px rgba(0, 0, 0, 0.3));\n",
              "      fill: #FFFFFF;\n",
              "    }\n",
              "  </style>\n",
              "\n",
              "    <script>\n",
              "      const buttonEl =\n",
              "        document.querySelector('#df-42cc4d78-aae2-487a-8bf1-36026a8b9db1 button.colab-df-convert');\n",
              "      buttonEl.style.display =\n",
              "        google.colab.kernel.accessAllowed ? 'block' : 'none';\n",
              "\n",
              "      async function convertToInteractive(key) {\n",
              "        const element = document.querySelector('#df-42cc4d78-aae2-487a-8bf1-36026a8b9db1');\n",
              "        const dataTable =\n",
              "          await google.colab.kernel.invokeFunction('convertToInteractive',\n",
              "                                                    [key], {});\n",
              "        if (!dataTable) return;\n",
              "\n",
              "        const docLinkHtml = 'Like what you see? Visit the ' +\n",
              "          '<a target=\"_blank\" href=https://colab.research.google.com/notebooks/data_table.ipynb>data table notebook</a>'\n",
              "          + ' to learn more about interactive tables.';\n",
              "        element.innerHTML = '';\n",
              "        dataTable['output_type'] = 'display_data';\n",
              "        await google.colab.output.renderOutput(dataTable, element);\n",
              "        const docLink = document.createElement('div');\n",
              "        docLink.innerHTML = docLinkHtml;\n",
              "        element.appendChild(docLink);\n",
              "      }\n",
              "    </script>\n",
              "  </div>\n",
              "\n",
              "\n",
              "<div id=\"df-be8d76b5-a5e5-4483-ab4c-de4cdbc9c717\">\n",
              "  <button class=\"colab-df-quickchart\" onclick=\"quickchart('df-be8d76b5-a5e5-4483-ab4c-de4cdbc9c717')\"\n",
              "            title=\"Suggest charts.\"\n",
              "            style=\"display:none;\">\n",
              "\n",
              "<svg xmlns=\"http://www.w3.org/2000/svg\" height=\"24px\"viewBox=\"0 0 24 24\"\n",
              "     width=\"24px\">\n",
              "    <g>\n",
              "        <path d=\"M19 3H5c-1.1 0-2 .9-2 2v14c0 1.1.9 2 2 2h14c1.1 0 2-.9 2-2V5c0-1.1-.9-2-2-2zM9 17H7v-7h2v7zm4 0h-2V7h2v10zm4 0h-2v-4h2v4z\"/>\n",
              "    </g>\n",
              "</svg>\n",
              "  </button>\n",
              "\n",
              "<style>\n",
              "  .colab-df-quickchart {\n",
              "      --bg-color: #E8F0FE;\n",
              "      --fill-color: #1967D2;\n",
              "      --hover-bg-color: #E2EBFA;\n",
              "      --hover-fill-color: #174EA6;\n",
              "      --disabled-fill-color: #AAA;\n",
              "      --disabled-bg-color: #DDD;\n",
              "  }\n",
              "\n",
              "  [theme=dark] .colab-df-quickchart {\n",
              "      --bg-color: #3B4455;\n",
              "      --fill-color: #D2E3FC;\n",
              "      --hover-bg-color: #434B5C;\n",
              "      --hover-fill-color: #FFFFFF;\n",
              "      --disabled-bg-color: #3B4455;\n",
              "      --disabled-fill-color: #666;\n",
              "  }\n",
              "\n",
              "  .colab-df-quickchart {\n",
              "    background-color: var(--bg-color);\n",
              "    border: none;\n",
              "    border-radius: 50%;\n",
              "    cursor: pointer;\n",
              "    display: none;\n",
              "    fill: var(--fill-color);\n",
              "    height: 32px;\n",
              "    padding: 0;\n",
              "    width: 32px;\n",
              "  }\n",
              "\n",
              "  .colab-df-quickchart:hover {\n",
              "    background-color: var(--hover-bg-color);\n",
              "    box-shadow: 0 1px 2px rgba(60, 64, 67, 0.3), 0 1px 3px 1px rgba(60, 64, 67, 0.15);\n",
              "    fill: var(--button-hover-fill-color);\n",
              "  }\n",
              "\n",
              "  .colab-df-quickchart-complete:disabled,\n",
              "  .colab-df-quickchart-complete:disabled:hover {\n",
              "    background-color: var(--disabled-bg-color);\n",
              "    fill: var(--disabled-fill-color);\n",
              "    box-shadow: none;\n",
              "  }\n",
              "\n",
              "  .colab-df-spinner {\n",
              "    border: 2px solid var(--fill-color);\n",
              "    border-color: transparent;\n",
              "    border-bottom-color: var(--fill-color);\n",
              "    animation:\n",
              "      spin 1s steps(1) infinite;\n",
              "  }\n",
              "\n",
              "  @keyframes spin {\n",
              "    0% {\n",
              "      border-color: transparent;\n",
              "      border-bottom-color: var(--fill-color);\n",
              "      border-left-color: var(--fill-color);\n",
              "    }\n",
              "    20% {\n",
              "      border-color: transparent;\n",
              "      border-left-color: var(--fill-color);\n",
              "      border-top-color: var(--fill-color);\n",
              "    }\n",
              "    30% {\n",
              "      border-color: transparent;\n",
              "      border-left-color: var(--fill-color);\n",
              "      border-top-color: var(--fill-color);\n",
              "      border-right-color: var(--fill-color);\n",
              "    }\n",
              "    40% {\n",
              "      border-color: transparent;\n",
              "      border-right-color: var(--fill-color);\n",
              "      border-top-color: var(--fill-color);\n",
              "    }\n",
              "    60% {\n",
              "      border-color: transparent;\n",
              "      border-right-color: var(--fill-color);\n",
              "    }\n",
              "    80% {\n",
              "      border-color: transparent;\n",
              "      border-right-color: var(--fill-color);\n",
              "      border-bottom-color: var(--fill-color);\n",
              "    }\n",
              "    90% {\n",
              "      border-color: transparent;\n",
              "      border-bottom-color: var(--fill-color);\n",
              "    }\n",
              "  }\n",
              "</style>\n",
              "\n",
              "  <script>\n",
              "    async function quickchart(key) {\n",
              "      const quickchartButtonEl =\n",
              "        document.querySelector('#' + key + ' button');\n",
              "      quickchartButtonEl.disabled = true;  // To prevent multiple clicks.\n",
              "      quickchartButtonEl.classList.add('colab-df-spinner');\n",
              "      try {\n",
              "        const charts = await google.colab.kernel.invokeFunction(\n",
              "            'suggestCharts', [key], {});\n",
              "      } catch (error) {\n",
              "        console.error('Error during call to suggestCharts:', error);\n",
              "      }\n",
              "      quickchartButtonEl.classList.remove('colab-df-spinner');\n",
              "      quickchartButtonEl.classList.add('colab-df-quickchart-complete');\n",
              "    }\n",
              "    (() => {\n",
              "      let quickchartButtonEl =\n",
              "        document.querySelector('#df-be8d76b5-a5e5-4483-ab4c-de4cdbc9c717 button');\n",
              "      quickchartButtonEl.style.display =\n",
              "        google.colab.kernel.accessAllowed ? 'block' : 'none';\n",
              "    })();\n",
              "  </script>\n",
              "</div>\n",
              "    </div>\n",
              "  </div>\n"
            ]
          },
          "metadata": {},
          "execution_count": 165
        }
      ],
      "source": [
        "data_new = pd.read_csv('/content/data_with_importantFeature.csv')\n",
        "data_new[0:10]"
      ]
    },
    {
      "cell_type": "code",
      "source": [],
      "metadata": {
        "id": "Ph16ADQ3Ngjn"
      },
      "id": "Ph16ADQ3Ngjn",
      "execution_count": null,
      "outputs": []
    },
    {
      "cell_type": "code",
      "source": [],
      "metadata": {
        "id": "GZmbgR_fNghY"
      },
      "id": "GZmbgR_fNghY",
      "execution_count": null,
      "outputs": []
    },
    {
      "cell_type": "code",
      "source": [],
      "metadata": {
        "id": "KXaTL1SBNsKJ"
      },
      "id": "KXaTL1SBNsKJ",
      "execution_count": null,
      "outputs": []
    }
  ],
  "metadata": {
    "kernelspec": {
      "display_name": "Python 3",
      "name": "python3"
    },
    "language_info": {
      "codemirror_mode": {
        "name": "ipython",
        "version": 3
      },
      "file_extension": ".py",
      "mimetype": "text/x-python",
      "name": "python",
      "nbconvert_exporter": "python",
      "pygments_lexer": "ipython3",
      "version": "3.8.8"
    },
    "colab": {
      "provenance": [],
      "gpuType": "T4"
    },
    "accelerator": "GPU"
  },
  "nbformat": 4,
  "nbformat_minor": 5
}